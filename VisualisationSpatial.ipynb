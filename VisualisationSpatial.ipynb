{
  "nbformat": 4,
  "nbformat_minor": 0,
  "metadata": {
    "colab": {
      "provenance": [],
      "toc_visible": true,
      "mount_file_id": "1rrnvsND3wFS4h2rXBSOwfsSlIusaWenT",
      "authorship_tag": "ABX9TyMKVXcx1RNytP9xupDgofh1",
      "include_colab_link": true
    },
    "kernelspec": {
      "name": "python3",
      "display_name": "Python 3"
    },
    "language_info": {
      "name": "python"
    },
    "accelerator": "GPU",
    "gpuClass": "standard"
  },
  "cells": [
    {
      "cell_type": "markdown",
      "metadata": {
        "id": "view-in-github",
        "colab_type": "text"
      },
      "source": [
        "<a href=\"https://colab.research.google.com/github/StojanovicIvana/SpatialDatabasesProject/blob/main/VisualisationSpatial.ipynb\" target=\"_parent\"><img src=\"https://colab.research.google.com/assets/colab-badge.svg\" alt=\"Open In Colab\"/></a>"
      ]
    },
    {
      "cell_type": "code",
      "source": [
        "!pip install --upgrade geopandas\n",
        "!pip install --upgrade pyshp\n",
        "!pip install --upgrade shapely\n",
        "!pip install --upgrade descartes"
      ],
      "metadata": {
        "colab": {
          "base_uri": "https://localhost:8080/"
        },
        "id": "apwuOhW0lg1F",
        "outputId": "da185f2a-1e30-4425-8b2e-b5d62ee84779"
      },
      "execution_count": null,
      "outputs": [
        {
          "output_type": "stream",
          "name": "stdout",
          "text": [
            "Looking in indexes: https://pypi.org/simple, https://us-python.pkg.dev/colab-wheels/public/simple/\n",
            "Collecting geopandas\n",
            "  Downloading geopandas-0.12.2-py3-none-any.whl (1.1 MB)\n",
            "\u001b[2K     \u001b[90m━━━━━━━━━━━━━━━━━━━━━━━━━━━━━━━━━━━━━━━━\u001b[0m \u001b[32m1.1/1.1 MB\u001b[0m \u001b[31m29.1 MB/s\u001b[0m eta \u001b[36m0:00:00\u001b[0m\n",
            "\u001b[?25hRequirement already satisfied: packaging in /usr/local/lib/python3.8/dist-packages (from geopandas) (21.3)\n",
            "Requirement already satisfied: shapely>=1.7 in /usr/local/lib/python3.8/dist-packages (from geopandas) (2.0.0)\n",
            "Collecting pyproj>=2.6.1.post1\n",
            "  Downloading pyproj-3.4.1-cp38-cp38-manylinux_2_17_x86_64.manylinux2014_x86_64.whl (7.8 MB)\n",
            "\u001b[2K     \u001b[90m━━━━━━━━━━━━━━━━━━━━━━━━━━━━━━━━━━━━━━━━\u001b[0m \u001b[32m7.8/7.8 MB\u001b[0m \u001b[31m104.4 MB/s\u001b[0m eta \u001b[36m0:00:00\u001b[0m\n",
            "\u001b[?25hRequirement already satisfied: pandas>=1.0.0 in /usr/local/lib/python3.8/dist-packages (from geopandas) (1.3.5)\n",
            "Collecting fiona>=1.8\n",
            "  Downloading Fiona-1.8.22-cp38-cp38-manylinux_2_17_x86_64.manylinux2014_x86_64.whl (16.6 MB)\n",
            "\u001b[2K     \u001b[90m━━━━━━━━━━━━━━━━━━━━━━━━━━━━━━━━━━━━━━━━\u001b[0m \u001b[32m16.6/16.6 MB\u001b[0m \u001b[31m80.8 MB/s\u001b[0m eta \u001b[36m0:00:00\u001b[0m\n",
            "\u001b[?25hRequirement already satisfied: six>=1.7 in /usr/local/lib/python3.8/dist-packages (from fiona>=1.8->geopandas) (1.15.0)\n",
            "Requirement already satisfied: click>=4.0 in /usr/local/lib/python3.8/dist-packages (from fiona>=1.8->geopandas) (7.1.2)\n",
            "Collecting munch\n",
            "  Downloading munch-2.5.0-py2.py3-none-any.whl (10 kB)\n",
            "Requirement already satisfied: certifi in /usr/local/lib/python3.8/dist-packages (from fiona>=1.8->geopandas) (2022.12.7)\n",
            "Collecting cligj>=0.5\n",
            "  Downloading cligj-0.7.2-py3-none-any.whl (7.1 kB)\n",
            "Collecting click-plugins>=1.0\n",
            "  Downloading click_plugins-1.1.1-py2.py3-none-any.whl (7.5 kB)\n",
            "Requirement already satisfied: setuptools in /usr/local/lib/python3.8/dist-packages (from fiona>=1.8->geopandas) (57.4.0)\n",
            "Requirement already satisfied: attrs>=17 in /usr/local/lib/python3.8/dist-packages (from fiona>=1.8->geopandas) (22.2.0)\n",
            "Requirement already satisfied: python-dateutil>=2.7.3 in /usr/local/lib/python3.8/dist-packages (from pandas>=1.0.0->geopandas) (2.8.2)\n",
            "Requirement already satisfied: pytz>=2017.3 in /usr/local/lib/python3.8/dist-packages (from pandas>=1.0.0->geopandas) (2022.7)\n",
            "Requirement already satisfied: numpy>=1.17.3 in /usr/local/lib/python3.8/dist-packages (from pandas>=1.0.0->geopandas) (1.21.6)\n",
            "Requirement already satisfied: pyparsing!=3.0.5,>=2.0.2 in /usr/local/lib/python3.8/dist-packages (from packaging->geopandas) (3.0.9)\n",
            "Installing collected packages: pyproj, munch, cligj, click-plugins, fiona, geopandas\n",
            "Successfully installed click-plugins-1.1.1 cligj-0.7.2 fiona-1.8.22 geopandas-0.12.2 munch-2.5.0 pyproj-3.4.1\n",
            "Looking in indexes: https://pypi.org/simple, https://us-python.pkg.dev/colab-wheels/public/simple/\n",
            "Collecting pyshp\n",
            "  Downloading pyshp-2.3.1-py2.py3-none-any.whl (46 kB)\n",
            "\u001b[2K     \u001b[90m━━━━━━━━━━━━━━━━━━━━━━━━━━━━━━━━━━━━━━━━\u001b[0m \u001b[32m46.5/46.5 KB\u001b[0m \u001b[31m5.6 MB/s\u001b[0m eta \u001b[36m0:00:00\u001b[0m\n",
            "\u001b[?25hInstalling collected packages: pyshp\n",
            "Successfully installed pyshp-2.3.1\n",
            "Looking in indexes: https://pypi.org/simple, https://us-python.pkg.dev/colab-wheels/public/simple/\n",
            "Requirement already satisfied: shapely in /usr/local/lib/python3.8/dist-packages (2.0.0)\n",
            "Requirement already satisfied: numpy>=1.14 in /usr/local/lib/python3.8/dist-packages (from shapely) (1.21.6)\n",
            "Looking in indexes: https://pypi.org/simple, https://us-python.pkg.dev/colab-wheels/public/simple/\n",
            "Requirement already satisfied: descartes in /usr/local/lib/python3.8/dist-packages (1.1.0)\n",
            "Requirement already satisfied: matplotlib in /usr/local/lib/python3.8/dist-packages (from descartes) (3.2.2)\n",
            "Requirement already satisfied: kiwisolver>=1.0.1 in /usr/local/lib/python3.8/dist-packages (from matplotlib->descartes) (1.4.4)\n",
            "Requirement already satisfied: numpy>=1.11 in /usr/local/lib/python3.8/dist-packages (from matplotlib->descartes) (1.21.6)\n",
            "Requirement already satisfied: cycler>=0.10 in /usr/local/lib/python3.8/dist-packages (from matplotlib->descartes) (0.11.0)\n",
            "Requirement already satisfied: pyparsing!=2.0.4,!=2.1.2,!=2.1.6,>=2.0.1 in /usr/local/lib/python3.8/dist-packages (from matplotlib->descartes) (3.0.9)\n",
            "Requirement already satisfied: python-dateutil>=2.1 in /usr/local/lib/python3.8/dist-packages (from matplotlib->descartes) (2.8.2)\n",
            "Requirement already satisfied: six>=1.5 in /usr/local/lib/python3.8/dist-packages (from python-dateutil>=2.1->matplotlib->descartes) (1.15.0)\n"
          ]
        }
      ]
    },
    {
      "cell_type": "code",
      "source": [
        "import numpy as np\n",
        "import folium\n",
        "from folium import plugins\n",
        "from folium.plugins import HeatMap\n",
        "from folium.plugins import HeatMapWithTime\n",
        "from folium.plugins import MarkerCluster\n",
        "import pandas as pd\n",
        "import matplotlib.pyplot as plt\n",
        "import seaborn as sns\n",
        "from shapely import wkt\n",
        "import geopandas as gpd\n",
        "from sklearn.neighbors import BallTree"
      ],
      "metadata": {
        "id": "v9Hygm2FDDdK"
      },
      "execution_count": null,
      "outputs": []
    },
    {
      "cell_type": "code",
      "source": [
        "from google.colab import drive\n",
        "drive.mount('/content/drive')"
      ],
      "metadata": {
        "colab": {
          "base_uri": "https://localhost:8080/"
        },
        "id": "oJLrfqPvPOlo",
        "outputId": "3685e055-f0b9-4672-94b0-de4181aa66bd"
      },
      "execution_count": null,
      "outputs": [
        {
          "output_type": "stream",
          "name": "stdout",
          "text": [
            "Drive already mounted at /content/drive; to attempt to forcibly remount, call drive.mount(\"/content/drive\", force_remount=True).\n"
          ]
        }
      ]
    },
    {
      "cell_type": "code",
      "source": [
        "# Importing the file\n",
        "!unzip /content/drive/MyDrive/Spatial/ivana.zip"
      ],
      "metadata": {
        "colab": {
          "base_uri": "https://localhost:8080/"
        },
        "id": "XRPB2f8_Pm6B",
        "outputId": "e0fce251-504b-4179-d5b7-17f67cab58c9"
      },
      "execution_count": 1,
      "outputs": [
        {
          "output_type": "stream",
          "name": "stdout",
          "text": [
            "Archive:  /content/drive/MyDrive/Spatial/ivana.zip\n",
            "  inflating: ivana.csv               \n"
          ]
        }
      ]
    },
    {
      "cell_type": "code",
      "source": [
        "visual=pd.read_csv(\"ivana.csv\", header=0)\n",
        "visual.shape"
      ],
      "metadata": {
        "colab": {
          "base_uri": "https://localhost:8080/"
        },
        "id": "nFqQB-YIQFoK",
        "outputId": "360dbcc3-00a3-4aba-c92f-9f6b58f79e17"
      },
      "execution_count": null,
      "outputs": [
        {
          "output_type": "execute_result",
          "data": {
            "text/plain": [
              "(4574138, 7)"
            ]
          },
          "metadata": {},
          "execution_count": 5
        }
      ]
    },
    {
      "cell_type": "code",
      "source": [
        "visual['Pickup Centroid Location'] = visual['Pickup Centroid Location'].apply(wkt.loads)"
      ],
      "metadata": {
        "id": "SoRiIE6-l4yL"
      },
      "execution_count": null,
      "outputs": []
    },
    {
      "cell_type": "code",
      "source": [
        "# Changing datatypes\n",
        "gdf = gpd.GeoDataFrame(visual, geometry='Pickup Centroid Location')\n",
        "gdf['Trip Start Timestamp'] = pd.to_datetime(gdf['Trip Start Timestamp'])\n",
        "gdf['Trip End Timestamp'] = pd.to_datetime(gdf['Trip End Timestamp'])"
      ],
      "metadata": {
        "id": "QsVni9DRmFGa"
      },
      "execution_count": null,
      "outputs": []
    },
    {
      "cell_type": "code",
      "source": [
        "gdf.dtypes"
      ],
      "metadata": {
        "colab": {
          "base_uri": "https://localhost:8080/"
        },
        "id": "qQKcR6bAmtKd",
        "outputId": "31a4c743-7983-4db4-c982-b154fbaca39f"
      },
      "execution_count": null,
      "outputs": [
        {
          "output_type": "execute_result",
          "data": {
            "text/plain": [
              "Unnamed: 0                           int64\n",
              "Trip ID                             object\n",
              "Taxi ID                             object\n",
              "Trip Start Timestamp        datetime64[ns]\n",
              "Trip End Timestamp          datetime64[ns]\n",
              "Pickup Community Area              float64\n",
              "Pickup Centroid Location          geometry\n",
              "dtype: object"
            ]
          },
          "metadata": {},
          "execution_count": 8
        }
      ]
    },
    {
      "cell_type": "code",
      "source": [
        "# Extracting the points\n",
        "points = [[point.xy[1][0], point.xy[0][0]] for point in gdf.geometry]\n",
        "\n",
        "# Creating the map\n",
        "map = folium.Map(location=[41.79259, -87.76962], zoom_start=9)\n",
        "map\n",
        "\n",
        "# Saving the general heatmap\n",
        "#HeatMap(points).add_to(map)\n",
        "#map.save('map.html')"
      ],
      "metadata": {
        "id": "7zMPlHG9aYDC",
        "colab": {
          "base_uri": "https://localhost:8080/",
          "height": 235
        },
        "outputId": "c1e8e5d7-28c2-4e37-d803-520eca3301de"
      },
      "execution_count": 2,
      "outputs": [
        {
          "output_type": "error",
          "ename": "NameError",
          "evalue": "ignored",
          "traceback": [
            "\u001b[0;31m---------------------------------------------------------------------------\u001b[0m",
            "\u001b[0;31mNameError\u001b[0m                                 Traceback (most recent call last)",
            "\u001b[0;32m<ipython-input-2-84b473a07d22>\u001b[0m in \u001b[0;36m<module>\u001b[0;34m\u001b[0m\n\u001b[1;32m      1\u001b[0m \u001b[0;31m#extracting the points\u001b[0m\u001b[0;34m\u001b[0m\u001b[0;34m\u001b[0m\u001b[0;34m\u001b[0m\u001b[0m\n\u001b[0;32m----> 2\u001b[0;31m \u001b[0mpoints\u001b[0m \u001b[0;34m=\u001b[0m \u001b[0;34m[\u001b[0m\u001b[0;34m[\u001b[0m\u001b[0mpoint\u001b[0m\u001b[0;34m.\u001b[0m\u001b[0mxy\u001b[0m\u001b[0;34m[\u001b[0m\u001b[0;36m1\u001b[0m\u001b[0;34m]\u001b[0m\u001b[0;34m[\u001b[0m\u001b[0;36m0\u001b[0m\u001b[0;34m]\u001b[0m\u001b[0;34m,\u001b[0m \u001b[0mpoint\u001b[0m\u001b[0;34m.\u001b[0m\u001b[0mxy\u001b[0m\u001b[0;34m[\u001b[0m\u001b[0;36m0\u001b[0m\u001b[0;34m]\u001b[0m\u001b[0;34m[\u001b[0m\u001b[0;36m0\u001b[0m\u001b[0;34m]\u001b[0m\u001b[0;34m]\u001b[0m \u001b[0;32mfor\u001b[0m \u001b[0mpoint\u001b[0m \u001b[0;32min\u001b[0m \u001b[0mgdf\u001b[0m\u001b[0;34m.\u001b[0m\u001b[0mgeometry\u001b[0m\u001b[0;34m]\u001b[0m\u001b[0;34m\u001b[0m\u001b[0;34m\u001b[0m\u001b[0m\n\u001b[0m\u001b[1;32m      3\u001b[0m \u001b[0;34m\u001b[0m\u001b[0m\n\u001b[1;32m      4\u001b[0m \u001b[0;31m#creating and saving general heat map\u001b[0m\u001b[0;34m\u001b[0m\u001b[0;34m\u001b[0m\u001b[0;34m\u001b[0m\u001b[0m\n\u001b[1;32m      5\u001b[0m \u001b[0mmap\u001b[0m \u001b[0;34m=\u001b[0m \u001b[0mfolium\u001b[0m\u001b[0;34m.\u001b[0m\u001b[0mMap\u001b[0m\u001b[0;34m(\u001b[0m\u001b[0mlocation\u001b[0m\u001b[0;34m=\u001b[0m\u001b[0;34m[\u001b[0m\u001b[0;36m41.79259\u001b[0m\u001b[0;34m,\u001b[0m \u001b[0;34m-\u001b[0m\u001b[0;36m87.76962\u001b[0m\u001b[0;34m]\u001b[0m\u001b[0;34m,\u001b[0m \u001b[0mzoom_start\u001b[0m\u001b[0;34m=\u001b[0m\u001b[0;36m9\u001b[0m\u001b[0;34m)\u001b[0m\u001b[0;34m\u001b[0m\u001b[0;34m\u001b[0m\u001b[0m\n",
            "\u001b[0;31mNameError\u001b[0m: name 'gdf' is not defined"
          ]
        }
      ]
    },
    {
      "cell_type": "code",
      "source": [
        "# Shapefile for community areas boundaries\n",
        "comAreas=open(\"/content/drive/MyDrive/Spatial/Boundaries-CommunityAreas.geojson\", \"r\", encoding=\"utf-8-sig\").read()"
      ],
      "metadata": {
        "id": "aEJtrJuJfbER"
      },
      "execution_count": 3,
      "outputs": []
    },
    {
      "cell_type": "markdown",
      "source": [
        "HEAT MAP WITH TIME SLIDER"
      ],
      "metadata": {
        "id": "m7XBSxErJRAd"
      }
    },
    {
      "cell_type": "code",
      "source": [
        "# Data for one Friday in October\n",
        "options = [4]\n",
        "gdfTemp = gdf.loc[gdf['Trip Start Timestamp'].dt.weekday.isin(options)]\n",
        "gdfHM = gdfTemp[(gdfTemp['Trip Start Timestamp'] >= '2022-10-28 00:00:00') & (gdfTemp['Trip Start Timestamp'] <= '2022-10-29 23:15:00')]\n",
        "\n",
        "gdfHM"
      ],
      "metadata": {
        "colab": {
          "base_uri": "https://localhost:8080/",
          "height": 869
        },
        "id": "LCM5k-HtAzMc",
        "outputId": "98255f2d-114f-4d39-e24f-df413c6257b8"
      },
      "execution_count": null,
      "outputs": [
        {
          "output_type": "execute_result",
          "data": {
            "text/plain": [
              "         Unnamed: 0                                   Trip ID  \\\n",
              "4522445     5266476  18e5cceaf5ff41ee8db77aa614c6fdada9210332   \n",
              "4522446     5266477  4e9099aa4c53b2627197f5b2dae9b51eaa7f8a22   \n",
              "4522447     5266478  57082962be515aa293c61e45a90c56a6eded8dc4   \n",
              "4522448     5266479  65b6ec0ed72abed029281ddc72bc67d6aad4447b   \n",
              "4522449     5266480  6a4df51d4ebf55e8c2b24de78fad9cfdbee7d49b   \n",
              "...             ...                                       ...   \n",
              "4539192     5285575  f3479a2bfdef3546234a9f210da726d621027802   \n",
              "4539193     5285576  f386af97ed02fd9abd3a5bf9fdf93e1f82c654a9   \n",
              "4539194     5285577  f5315e4a062a263fc57eac416041771b277c9965   \n",
              "4539195     5285578  f976f32f9e03d4a90bb12d9cdad1fdfd55c530ee   \n",
              "4539196     5285580  fe210f8ce70d39e45e6fe697a64e1fbac7b9f8ab   \n",
              "\n",
              "                                                   Taxi ID  \\\n",
              "4522445  624a6a680c34b514659e430a8c859b763e61c2cd9f0e2f...   \n",
              "4522446  bee9782d8d7310bc1b902a8fe547baf0da4c95165bd81f...   \n",
              "4522447  fdb16324f07e66dd7338161569ae6991f89e38884bac4a...   \n",
              "4522448  9b6ede7d36f53ba56a1ec8882cc17703224ac426ba9ef9...   \n",
              "4522449  8c302890305f37bb9d1732e606816c872a73b73f69a0ea...   \n",
              "...                                                    ...   \n",
              "4539192  8c302890305f37bb9d1732e606816c872a73b73f69a0ea...   \n",
              "4539193  80b33c6123e5192e254b219f429bd376d02aad87b9bc2e...   \n",
              "4539194  65e6fa122a48ea7742344a508371345cb5be9827c3837d...   \n",
              "4539195  f42c1db446b1252847c7fc550a732ffc6dd30cb59113f8...   \n",
              "4539196  fd6d0bcebb6d873f590748d5f16717d261b8980edd7741...   \n",
              "\n",
              "        Trip Start Timestamp  Trip End Timestamp  Pickup Community Area  \\\n",
              "4522445  2022-10-28 00:00:00 2022-10-28 00:30:00                   76.0   \n",
              "4522446  2022-10-28 00:00:00 2022-10-28 00:00:00                   56.0   \n",
              "4522447  2022-10-28 00:00:00 2022-10-28 00:15:00                    3.0   \n",
              "4522448  2022-10-28 00:00:00 2022-10-28 00:15:00                    8.0   \n",
              "4522449  2022-10-28 00:00:00 2022-10-28 00:15:00                    8.0   \n",
              "...                      ...                 ...                    ...   \n",
              "4539192  2022-10-28 23:45:00 2022-10-29 00:00:00                    8.0   \n",
              "4539193  2022-10-28 23:45:00 2022-10-29 00:00:00                   32.0   \n",
              "4539194  2022-10-28 23:45:00 2022-10-29 00:00:00                   51.0   \n",
              "4539195  2022-10-28 23:45:00 2022-10-29 00:00:00                   76.0   \n",
              "4539196  2022-10-28 23:45:00 2022-10-29 02:00:00                    8.0   \n",
              "\n",
              "           Pickup Centroid Location  \n",
              "4522445  POINT (-87.91362 41.98026)  \n",
              "4522446  POINT (-87.76962 41.79259)  \n",
              "4522447  POINT (-87.65588 41.96581)  \n",
              "4522448  POINT (-87.63331 41.89960)  \n",
              "4522449  POINT (-87.63331 41.89960)  \n",
              "...                             ...  \n",
              "4539192  POINT (-87.63331 41.89960)  \n",
              "4539193  POINT (-87.63275 41.88099)  \n",
              "4539194  POINT (-87.57006 41.69063)  \n",
              "4539195  POINT (-87.91362 41.98026)  \n",
              "4539196  POINT (-87.63331 41.89960)  \n",
              "\n",
              "[16752 rows x 7 columns]"
            ],
            "text/html": [
              "\n",
              "  <div id=\"df-021189a8-4656-468c-a649-422b61dcda8b\">\n",
              "    <div class=\"colab-df-container\">\n",
              "      <div>\n",
              "<style scoped>\n",
              "    .dataframe tbody tr th:only-of-type {\n",
              "        vertical-align: middle;\n",
              "    }\n",
              "\n",
              "    .dataframe tbody tr th {\n",
              "        vertical-align: top;\n",
              "    }\n",
              "\n",
              "    .dataframe thead th {\n",
              "        text-align: right;\n",
              "    }\n",
              "</style>\n",
              "<table border=\"1\" class=\"dataframe\">\n",
              "  <thead>\n",
              "    <tr style=\"text-align: right;\">\n",
              "      <th></th>\n",
              "      <th>Unnamed: 0</th>\n",
              "      <th>Trip ID</th>\n",
              "      <th>Taxi ID</th>\n",
              "      <th>Trip Start Timestamp</th>\n",
              "      <th>Trip End Timestamp</th>\n",
              "      <th>Pickup Community Area</th>\n",
              "      <th>Pickup Centroid Location</th>\n",
              "    </tr>\n",
              "  </thead>\n",
              "  <tbody>\n",
              "    <tr>\n",
              "      <th>4522445</th>\n",
              "      <td>5266476</td>\n",
              "      <td>18e5cceaf5ff41ee8db77aa614c6fdada9210332</td>\n",
              "      <td>624a6a680c34b514659e430a8c859b763e61c2cd9f0e2f...</td>\n",
              "      <td>2022-10-28 00:00:00</td>\n",
              "      <td>2022-10-28 00:30:00</td>\n",
              "      <td>76.0</td>\n",
              "      <td>POINT (-87.91362 41.98026)</td>\n",
              "    </tr>\n",
              "    <tr>\n",
              "      <th>4522446</th>\n",
              "      <td>5266477</td>\n",
              "      <td>4e9099aa4c53b2627197f5b2dae9b51eaa7f8a22</td>\n",
              "      <td>bee9782d8d7310bc1b902a8fe547baf0da4c95165bd81f...</td>\n",
              "      <td>2022-10-28 00:00:00</td>\n",
              "      <td>2022-10-28 00:00:00</td>\n",
              "      <td>56.0</td>\n",
              "      <td>POINT (-87.76962 41.79259)</td>\n",
              "    </tr>\n",
              "    <tr>\n",
              "      <th>4522447</th>\n",
              "      <td>5266478</td>\n",
              "      <td>57082962be515aa293c61e45a90c56a6eded8dc4</td>\n",
              "      <td>fdb16324f07e66dd7338161569ae6991f89e38884bac4a...</td>\n",
              "      <td>2022-10-28 00:00:00</td>\n",
              "      <td>2022-10-28 00:15:00</td>\n",
              "      <td>3.0</td>\n",
              "      <td>POINT (-87.65588 41.96581)</td>\n",
              "    </tr>\n",
              "    <tr>\n",
              "      <th>4522448</th>\n",
              "      <td>5266479</td>\n",
              "      <td>65b6ec0ed72abed029281ddc72bc67d6aad4447b</td>\n",
              "      <td>9b6ede7d36f53ba56a1ec8882cc17703224ac426ba9ef9...</td>\n",
              "      <td>2022-10-28 00:00:00</td>\n",
              "      <td>2022-10-28 00:15:00</td>\n",
              "      <td>8.0</td>\n",
              "      <td>POINT (-87.63331 41.89960)</td>\n",
              "    </tr>\n",
              "    <tr>\n",
              "      <th>4522449</th>\n",
              "      <td>5266480</td>\n",
              "      <td>6a4df51d4ebf55e8c2b24de78fad9cfdbee7d49b</td>\n",
              "      <td>8c302890305f37bb9d1732e606816c872a73b73f69a0ea...</td>\n",
              "      <td>2022-10-28 00:00:00</td>\n",
              "      <td>2022-10-28 00:15:00</td>\n",
              "      <td>8.0</td>\n",
              "      <td>POINT (-87.63331 41.89960)</td>\n",
              "    </tr>\n",
              "    <tr>\n",
              "      <th>...</th>\n",
              "      <td>...</td>\n",
              "      <td>...</td>\n",
              "      <td>...</td>\n",
              "      <td>...</td>\n",
              "      <td>...</td>\n",
              "      <td>...</td>\n",
              "      <td>...</td>\n",
              "    </tr>\n",
              "    <tr>\n",
              "      <th>4539192</th>\n",
              "      <td>5285575</td>\n",
              "      <td>f3479a2bfdef3546234a9f210da726d621027802</td>\n",
              "      <td>8c302890305f37bb9d1732e606816c872a73b73f69a0ea...</td>\n",
              "      <td>2022-10-28 23:45:00</td>\n",
              "      <td>2022-10-29 00:00:00</td>\n",
              "      <td>8.0</td>\n",
              "      <td>POINT (-87.63331 41.89960)</td>\n",
              "    </tr>\n",
              "    <tr>\n",
              "      <th>4539193</th>\n",
              "      <td>5285576</td>\n",
              "      <td>f386af97ed02fd9abd3a5bf9fdf93e1f82c654a9</td>\n",
              "      <td>80b33c6123e5192e254b219f429bd376d02aad87b9bc2e...</td>\n",
              "      <td>2022-10-28 23:45:00</td>\n",
              "      <td>2022-10-29 00:00:00</td>\n",
              "      <td>32.0</td>\n",
              "      <td>POINT (-87.63275 41.88099)</td>\n",
              "    </tr>\n",
              "    <tr>\n",
              "      <th>4539194</th>\n",
              "      <td>5285577</td>\n",
              "      <td>f5315e4a062a263fc57eac416041771b277c9965</td>\n",
              "      <td>65e6fa122a48ea7742344a508371345cb5be9827c3837d...</td>\n",
              "      <td>2022-10-28 23:45:00</td>\n",
              "      <td>2022-10-29 00:00:00</td>\n",
              "      <td>51.0</td>\n",
              "      <td>POINT (-87.57006 41.69063)</td>\n",
              "    </tr>\n",
              "    <tr>\n",
              "      <th>4539195</th>\n",
              "      <td>5285578</td>\n",
              "      <td>f976f32f9e03d4a90bb12d9cdad1fdfd55c530ee</td>\n",
              "      <td>f42c1db446b1252847c7fc550a732ffc6dd30cb59113f8...</td>\n",
              "      <td>2022-10-28 23:45:00</td>\n",
              "      <td>2022-10-29 00:00:00</td>\n",
              "      <td>76.0</td>\n",
              "      <td>POINT (-87.91362 41.98026)</td>\n",
              "    </tr>\n",
              "    <tr>\n",
              "      <th>4539196</th>\n",
              "      <td>5285580</td>\n",
              "      <td>fe210f8ce70d39e45e6fe697a64e1fbac7b9f8ab</td>\n",
              "      <td>fd6d0bcebb6d873f590748d5f16717d261b8980edd7741...</td>\n",
              "      <td>2022-10-28 23:45:00</td>\n",
              "      <td>2022-10-29 02:00:00</td>\n",
              "      <td>8.0</td>\n",
              "      <td>POINT (-87.63331 41.89960)</td>\n",
              "    </tr>\n",
              "  </tbody>\n",
              "</table>\n",
              "<p>16752 rows × 7 columns</p>\n",
              "</div>\n",
              "      <button class=\"colab-df-convert\" onclick=\"convertToInteractive('df-021189a8-4656-468c-a649-422b61dcda8b')\"\n",
              "              title=\"Convert this dataframe to an interactive table.\"\n",
              "              style=\"display:none;\">\n",
              "        \n",
              "  <svg xmlns=\"http://www.w3.org/2000/svg\" height=\"24px\"viewBox=\"0 0 24 24\"\n",
              "       width=\"24px\">\n",
              "    <path d=\"M0 0h24v24H0V0z\" fill=\"none\"/>\n",
              "    <path d=\"M18.56 5.44l.94 2.06.94-2.06 2.06-.94-2.06-.94-.94-2.06-.94 2.06-2.06.94zm-11 1L8.5 8.5l.94-2.06 2.06-.94-2.06-.94L8.5 2.5l-.94 2.06-2.06.94zm10 10l.94 2.06.94-2.06 2.06-.94-2.06-.94-.94-2.06-.94 2.06-2.06.94z\"/><path d=\"M17.41 7.96l-1.37-1.37c-.4-.4-.92-.59-1.43-.59-.52 0-1.04.2-1.43.59L10.3 9.45l-7.72 7.72c-.78.78-.78 2.05 0 2.83L4 21.41c.39.39.9.59 1.41.59.51 0 1.02-.2 1.41-.59l7.78-7.78 2.81-2.81c.8-.78.8-2.07 0-2.86zM5.41 20L4 18.59l7.72-7.72 1.47 1.35L5.41 20z\"/>\n",
              "  </svg>\n",
              "      </button>\n",
              "      \n",
              "  <style>\n",
              "    .colab-df-container {\n",
              "      display:flex;\n",
              "      flex-wrap:wrap;\n",
              "      gap: 12px;\n",
              "    }\n",
              "\n",
              "    .colab-df-convert {\n",
              "      background-color: #E8F0FE;\n",
              "      border: none;\n",
              "      border-radius: 50%;\n",
              "      cursor: pointer;\n",
              "      display: none;\n",
              "      fill: #1967D2;\n",
              "      height: 32px;\n",
              "      padding: 0 0 0 0;\n",
              "      width: 32px;\n",
              "    }\n",
              "\n",
              "    .colab-df-convert:hover {\n",
              "      background-color: #E2EBFA;\n",
              "      box-shadow: 0px 1px 2px rgba(60, 64, 67, 0.3), 0px 1px 3px 1px rgba(60, 64, 67, 0.15);\n",
              "      fill: #174EA6;\n",
              "    }\n",
              "\n",
              "    [theme=dark] .colab-df-convert {\n",
              "      background-color: #3B4455;\n",
              "      fill: #D2E3FC;\n",
              "    }\n",
              "\n",
              "    [theme=dark] .colab-df-convert:hover {\n",
              "      background-color: #434B5C;\n",
              "      box-shadow: 0px 1px 3px 1px rgba(0, 0, 0, 0.15);\n",
              "      filter: drop-shadow(0px 1px 2px rgba(0, 0, 0, 0.3));\n",
              "      fill: #FFFFFF;\n",
              "    }\n",
              "  </style>\n",
              "\n",
              "      <script>\n",
              "        const buttonEl =\n",
              "          document.querySelector('#df-021189a8-4656-468c-a649-422b61dcda8b button.colab-df-convert');\n",
              "        buttonEl.style.display =\n",
              "          google.colab.kernel.accessAllowed ? 'block' : 'none';\n",
              "\n",
              "        async function convertToInteractive(key) {\n",
              "          const element = document.querySelector('#df-021189a8-4656-468c-a649-422b61dcda8b');\n",
              "          const dataTable =\n",
              "            await google.colab.kernel.invokeFunction('convertToInteractive',\n",
              "                                                     [key], {});\n",
              "          if (!dataTable) return;\n",
              "\n",
              "          const docLinkHtml = 'Like what you see? Visit the ' +\n",
              "            '<a target=\"_blank\" href=https://colab.research.google.com/notebooks/data_table.ipynb>data table notebook</a>'\n",
              "            + ' to learn more about interactive tables.';\n",
              "          element.innerHTML = '';\n",
              "          dataTable['output_type'] = 'display_data';\n",
              "          await google.colab.output.renderOutput(dataTable, element);\n",
              "          const docLink = document.createElement('div');\n",
              "          docLink.innerHTML = docLinkHtml;\n",
              "          element.appendChild(docLink);\n",
              "        }\n",
              "      </script>\n",
              "    </div>\n",
              "  </div>\n",
              "  "
            ]
          },
          "metadata": {},
          "execution_count": 40
        }
      ]
    },
    {
      "cell_type": "code",
      "source": [
        "gdfHM['lon'] = gdfHM['Pickup Centroid Location'].x\n",
        "gdfHM['lat'] = gdfHM['Pickup Centroid Location'].y\n",
        "gdfHM"
      ],
      "metadata": {
        "colab": {
          "base_uri": "https://localhost:8080/",
          "height": 973
        },
        "id": "ficm_hNvA6fz",
        "outputId": "65e8d930-029d-4a20-ec91-bb5f7d128e63"
      },
      "execution_count": null,
      "outputs": [
        {
          "output_type": "stream",
          "name": "stderr",
          "text": [
            "/usr/local/lib/python3.8/dist-packages/geopandas/geodataframe.py:1443: SettingWithCopyWarning: \n",
            "A value is trying to be set on a copy of a slice from a DataFrame.\n",
            "Try using .loc[row_indexer,col_indexer] = value instead\n",
            "\n",
            "See the caveats in the documentation: https://pandas.pydata.org/pandas-docs/stable/user_guide/indexing.html#returning-a-view-versus-a-copy\n",
            "  super().__setitem__(key, value)\n"
          ]
        },
        {
          "output_type": "execute_result",
          "data": {
            "text/plain": [
              "         Unnamed: 0                                   Trip ID  \\\n",
              "4522445     5266476  18e5cceaf5ff41ee8db77aa614c6fdada9210332   \n",
              "4522446     5266477  4e9099aa4c53b2627197f5b2dae9b51eaa7f8a22   \n",
              "4522447     5266478  57082962be515aa293c61e45a90c56a6eded8dc4   \n",
              "4522448     5266479  65b6ec0ed72abed029281ddc72bc67d6aad4447b   \n",
              "4522449     5266480  6a4df51d4ebf55e8c2b24de78fad9cfdbee7d49b   \n",
              "...             ...                                       ...   \n",
              "4539192     5285575  f3479a2bfdef3546234a9f210da726d621027802   \n",
              "4539193     5285576  f386af97ed02fd9abd3a5bf9fdf93e1f82c654a9   \n",
              "4539194     5285577  f5315e4a062a263fc57eac416041771b277c9965   \n",
              "4539195     5285578  f976f32f9e03d4a90bb12d9cdad1fdfd55c530ee   \n",
              "4539196     5285580  fe210f8ce70d39e45e6fe697a64e1fbac7b9f8ab   \n",
              "\n",
              "                                                   Taxi ID  \\\n",
              "4522445  624a6a680c34b514659e430a8c859b763e61c2cd9f0e2f...   \n",
              "4522446  bee9782d8d7310bc1b902a8fe547baf0da4c95165bd81f...   \n",
              "4522447  fdb16324f07e66dd7338161569ae6991f89e38884bac4a...   \n",
              "4522448  9b6ede7d36f53ba56a1ec8882cc17703224ac426ba9ef9...   \n",
              "4522449  8c302890305f37bb9d1732e606816c872a73b73f69a0ea...   \n",
              "...                                                    ...   \n",
              "4539192  8c302890305f37bb9d1732e606816c872a73b73f69a0ea...   \n",
              "4539193  80b33c6123e5192e254b219f429bd376d02aad87b9bc2e...   \n",
              "4539194  65e6fa122a48ea7742344a508371345cb5be9827c3837d...   \n",
              "4539195  f42c1db446b1252847c7fc550a732ffc6dd30cb59113f8...   \n",
              "4539196  fd6d0bcebb6d873f590748d5f16717d261b8980edd7741...   \n",
              "\n",
              "        Trip Start Timestamp  Trip End Timestamp  Pickup Community Area  \\\n",
              "4522445  2022-10-28 00:00:00 2022-10-28 00:30:00                   76.0   \n",
              "4522446  2022-10-28 00:00:00 2022-10-28 00:00:00                   56.0   \n",
              "4522447  2022-10-28 00:00:00 2022-10-28 00:15:00                    3.0   \n",
              "4522448  2022-10-28 00:00:00 2022-10-28 00:15:00                    8.0   \n",
              "4522449  2022-10-28 00:00:00 2022-10-28 00:15:00                    8.0   \n",
              "...                      ...                 ...                    ...   \n",
              "4539192  2022-10-28 23:45:00 2022-10-29 00:00:00                    8.0   \n",
              "4539193  2022-10-28 23:45:00 2022-10-29 00:00:00                   32.0   \n",
              "4539194  2022-10-28 23:45:00 2022-10-29 00:00:00                   51.0   \n",
              "4539195  2022-10-28 23:45:00 2022-10-29 00:00:00                   76.0   \n",
              "4539196  2022-10-28 23:45:00 2022-10-29 02:00:00                    8.0   \n",
              "\n",
              "           Pickup Centroid Location        lon        lat  \n",
              "4522445  POINT (-87.91362 41.98026) -87.913625  41.980264  \n",
              "4522446  POINT (-87.76962 41.79259) -87.769615  41.792592  \n",
              "4522447  POINT (-87.65588 41.96581) -87.655879  41.965812  \n",
              "4522448  POINT (-87.63331 41.89960) -87.633308  41.899602  \n",
              "4522449  POINT (-87.63331 41.89960) -87.633308  41.899602  \n",
              "...                             ...        ...        ...  \n",
              "4539192  POINT (-87.63331 41.89960) -87.633308  41.899602  \n",
              "4539193  POINT (-87.63275 41.88099) -87.632746  41.880994  \n",
              "4539194  POINT (-87.57006 41.69063) -87.570058  41.690633  \n",
              "4539195  POINT (-87.91362 41.98026) -87.913625  41.980264  \n",
              "4539196  POINT (-87.63331 41.89960) -87.633308  41.899602  \n",
              "\n",
              "[16752 rows x 9 columns]"
            ],
            "text/html": [
              "\n",
              "  <div id=\"df-8b683a34-35a7-4dc5-b0be-49f2fffe263e\">\n",
              "    <div class=\"colab-df-container\">\n",
              "      <div>\n",
              "<style scoped>\n",
              "    .dataframe tbody tr th:only-of-type {\n",
              "        vertical-align: middle;\n",
              "    }\n",
              "\n",
              "    .dataframe tbody tr th {\n",
              "        vertical-align: top;\n",
              "    }\n",
              "\n",
              "    .dataframe thead th {\n",
              "        text-align: right;\n",
              "    }\n",
              "</style>\n",
              "<table border=\"1\" class=\"dataframe\">\n",
              "  <thead>\n",
              "    <tr style=\"text-align: right;\">\n",
              "      <th></th>\n",
              "      <th>Unnamed: 0</th>\n",
              "      <th>Trip ID</th>\n",
              "      <th>Taxi ID</th>\n",
              "      <th>Trip Start Timestamp</th>\n",
              "      <th>Trip End Timestamp</th>\n",
              "      <th>Pickup Community Area</th>\n",
              "      <th>Pickup Centroid Location</th>\n",
              "      <th>lon</th>\n",
              "      <th>lat</th>\n",
              "    </tr>\n",
              "  </thead>\n",
              "  <tbody>\n",
              "    <tr>\n",
              "      <th>4522445</th>\n",
              "      <td>5266476</td>\n",
              "      <td>18e5cceaf5ff41ee8db77aa614c6fdada9210332</td>\n",
              "      <td>624a6a680c34b514659e430a8c859b763e61c2cd9f0e2f...</td>\n",
              "      <td>2022-10-28 00:00:00</td>\n",
              "      <td>2022-10-28 00:30:00</td>\n",
              "      <td>76.0</td>\n",
              "      <td>POINT (-87.91362 41.98026)</td>\n",
              "      <td>-87.913625</td>\n",
              "      <td>41.980264</td>\n",
              "    </tr>\n",
              "    <tr>\n",
              "      <th>4522446</th>\n",
              "      <td>5266477</td>\n",
              "      <td>4e9099aa4c53b2627197f5b2dae9b51eaa7f8a22</td>\n",
              "      <td>bee9782d8d7310bc1b902a8fe547baf0da4c95165bd81f...</td>\n",
              "      <td>2022-10-28 00:00:00</td>\n",
              "      <td>2022-10-28 00:00:00</td>\n",
              "      <td>56.0</td>\n",
              "      <td>POINT (-87.76962 41.79259)</td>\n",
              "      <td>-87.769615</td>\n",
              "      <td>41.792592</td>\n",
              "    </tr>\n",
              "    <tr>\n",
              "      <th>4522447</th>\n",
              "      <td>5266478</td>\n",
              "      <td>57082962be515aa293c61e45a90c56a6eded8dc4</td>\n",
              "      <td>fdb16324f07e66dd7338161569ae6991f89e38884bac4a...</td>\n",
              "      <td>2022-10-28 00:00:00</td>\n",
              "      <td>2022-10-28 00:15:00</td>\n",
              "      <td>3.0</td>\n",
              "      <td>POINT (-87.65588 41.96581)</td>\n",
              "      <td>-87.655879</td>\n",
              "      <td>41.965812</td>\n",
              "    </tr>\n",
              "    <tr>\n",
              "      <th>4522448</th>\n",
              "      <td>5266479</td>\n",
              "      <td>65b6ec0ed72abed029281ddc72bc67d6aad4447b</td>\n",
              "      <td>9b6ede7d36f53ba56a1ec8882cc17703224ac426ba9ef9...</td>\n",
              "      <td>2022-10-28 00:00:00</td>\n",
              "      <td>2022-10-28 00:15:00</td>\n",
              "      <td>8.0</td>\n",
              "      <td>POINT (-87.63331 41.89960)</td>\n",
              "      <td>-87.633308</td>\n",
              "      <td>41.899602</td>\n",
              "    </tr>\n",
              "    <tr>\n",
              "      <th>4522449</th>\n",
              "      <td>5266480</td>\n",
              "      <td>6a4df51d4ebf55e8c2b24de78fad9cfdbee7d49b</td>\n",
              "      <td>8c302890305f37bb9d1732e606816c872a73b73f69a0ea...</td>\n",
              "      <td>2022-10-28 00:00:00</td>\n",
              "      <td>2022-10-28 00:15:00</td>\n",
              "      <td>8.0</td>\n",
              "      <td>POINT (-87.63331 41.89960)</td>\n",
              "      <td>-87.633308</td>\n",
              "      <td>41.899602</td>\n",
              "    </tr>\n",
              "    <tr>\n",
              "      <th>...</th>\n",
              "      <td>...</td>\n",
              "      <td>...</td>\n",
              "      <td>...</td>\n",
              "      <td>...</td>\n",
              "      <td>...</td>\n",
              "      <td>...</td>\n",
              "      <td>...</td>\n",
              "      <td>...</td>\n",
              "      <td>...</td>\n",
              "    </tr>\n",
              "    <tr>\n",
              "      <th>4539192</th>\n",
              "      <td>5285575</td>\n",
              "      <td>f3479a2bfdef3546234a9f210da726d621027802</td>\n",
              "      <td>8c302890305f37bb9d1732e606816c872a73b73f69a0ea...</td>\n",
              "      <td>2022-10-28 23:45:00</td>\n",
              "      <td>2022-10-29 00:00:00</td>\n",
              "      <td>8.0</td>\n",
              "      <td>POINT (-87.63331 41.89960)</td>\n",
              "      <td>-87.633308</td>\n",
              "      <td>41.899602</td>\n",
              "    </tr>\n",
              "    <tr>\n",
              "      <th>4539193</th>\n",
              "      <td>5285576</td>\n",
              "      <td>f386af97ed02fd9abd3a5bf9fdf93e1f82c654a9</td>\n",
              "      <td>80b33c6123e5192e254b219f429bd376d02aad87b9bc2e...</td>\n",
              "      <td>2022-10-28 23:45:00</td>\n",
              "      <td>2022-10-29 00:00:00</td>\n",
              "      <td>32.0</td>\n",
              "      <td>POINT (-87.63275 41.88099)</td>\n",
              "      <td>-87.632746</td>\n",
              "      <td>41.880994</td>\n",
              "    </tr>\n",
              "    <tr>\n",
              "      <th>4539194</th>\n",
              "      <td>5285577</td>\n",
              "      <td>f5315e4a062a263fc57eac416041771b277c9965</td>\n",
              "      <td>65e6fa122a48ea7742344a508371345cb5be9827c3837d...</td>\n",
              "      <td>2022-10-28 23:45:00</td>\n",
              "      <td>2022-10-29 00:00:00</td>\n",
              "      <td>51.0</td>\n",
              "      <td>POINT (-87.57006 41.69063)</td>\n",
              "      <td>-87.570058</td>\n",
              "      <td>41.690633</td>\n",
              "    </tr>\n",
              "    <tr>\n",
              "      <th>4539195</th>\n",
              "      <td>5285578</td>\n",
              "      <td>f976f32f9e03d4a90bb12d9cdad1fdfd55c530ee</td>\n",
              "      <td>f42c1db446b1252847c7fc550a732ffc6dd30cb59113f8...</td>\n",
              "      <td>2022-10-28 23:45:00</td>\n",
              "      <td>2022-10-29 00:00:00</td>\n",
              "      <td>76.0</td>\n",
              "      <td>POINT (-87.91362 41.98026)</td>\n",
              "      <td>-87.913625</td>\n",
              "      <td>41.980264</td>\n",
              "    </tr>\n",
              "    <tr>\n",
              "      <th>4539196</th>\n",
              "      <td>5285580</td>\n",
              "      <td>fe210f8ce70d39e45e6fe697a64e1fbac7b9f8ab</td>\n",
              "      <td>fd6d0bcebb6d873f590748d5f16717d261b8980edd7741...</td>\n",
              "      <td>2022-10-28 23:45:00</td>\n",
              "      <td>2022-10-29 02:00:00</td>\n",
              "      <td>8.0</td>\n",
              "      <td>POINT (-87.63331 41.89960)</td>\n",
              "      <td>-87.633308</td>\n",
              "      <td>41.899602</td>\n",
              "    </tr>\n",
              "  </tbody>\n",
              "</table>\n",
              "<p>16752 rows × 9 columns</p>\n",
              "</div>\n",
              "      <button class=\"colab-df-convert\" onclick=\"convertToInteractive('df-8b683a34-35a7-4dc5-b0be-49f2fffe263e')\"\n",
              "              title=\"Convert this dataframe to an interactive table.\"\n",
              "              style=\"display:none;\">\n",
              "        \n",
              "  <svg xmlns=\"http://www.w3.org/2000/svg\" height=\"24px\"viewBox=\"0 0 24 24\"\n",
              "       width=\"24px\">\n",
              "    <path d=\"M0 0h24v24H0V0z\" fill=\"none\"/>\n",
              "    <path d=\"M18.56 5.44l.94 2.06.94-2.06 2.06-.94-2.06-.94-.94-2.06-.94 2.06-2.06.94zm-11 1L8.5 8.5l.94-2.06 2.06-.94-2.06-.94L8.5 2.5l-.94 2.06-2.06.94zm10 10l.94 2.06.94-2.06 2.06-.94-2.06-.94-.94-2.06-.94 2.06-2.06.94z\"/><path d=\"M17.41 7.96l-1.37-1.37c-.4-.4-.92-.59-1.43-.59-.52 0-1.04.2-1.43.59L10.3 9.45l-7.72 7.72c-.78.78-.78 2.05 0 2.83L4 21.41c.39.39.9.59 1.41.59.51 0 1.02-.2 1.41-.59l7.78-7.78 2.81-2.81c.8-.78.8-2.07 0-2.86zM5.41 20L4 18.59l7.72-7.72 1.47 1.35L5.41 20z\"/>\n",
              "  </svg>\n",
              "      </button>\n",
              "      \n",
              "  <style>\n",
              "    .colab-df-container {\n",
              "      display:flex;\n",
              "      flex-wrap:wrap;\n",
              "      gap: 12px;\n",
              "    }\n",
              "\n",
              "    .colab-df-convert {\n",
              "      background-color: #E8F0FE;\n",
              "      border: none;\n",
              "      border-radius: 50%;\n",
              "      cursor: pointer;\n",
              "      display: none;\n",
              "      fill: #1967D2;\n",
              "      height: 32px;\n",
              "      padding: 0 0 0 0;\n",
              "      width: 32px;\n",
              "    }\n",
              "\n",
              "    .colab-df-convert:hover {\n",
              "      background-color: #E2EBFA;\n",
              "      box-shadow: 0px 1px 2px rgba(60, 64, 67, 0.3), 0px 1px 3px 1px rgba(60, 64, 67, 0.15);\n",
              "      fill: #174EA6;\n",
              "    }\n",
              "\n",
              "    [theme=dark] .colab-df-convert {\n",
              "      background-color: #3B4455;\n",
              "      fill: #D2E3FC;\n",
              "    }\n",
              "\n",
              "    [theme=dark] .colab-df-convert:hover {\n",
              "      background-color: #434B5C;\n",
              "      box-shadow: 0px 1px 3px 1px rgba(0, 0, 0, 0.15);\n",
              "      filter: drop-shadow(0px 1px 2px rgba(0, 0, 0, 0.3));\n",
              "      fill: #FFFFFF;\n",
              "    }\n",
              "  </style>\n",
              "\n",
              "      <script>\n",
              "        const buttonEl =\n",
              "          document.querySelector('#df-8b683a34-35a7-4dc5-b0be-49f2fffe263e button.colab-df-convert');\n",
              "        buttonEl.style.display =\n",
              "          google.colab.kernel.accessAllowed ? 'block' : 'none';\n",
              "\n",
              "        async function convertToInteractive(key) {\n",
              "          const element = document.querySelector('#df-8b683a34-35a7-4dc5-b0be-49f2fffe263e');\n",
              "          const dataTable =\n",
              "            await google.colab.kernel.invokeFunction('convertToInteractive',\n",
              "                                                     [key], {});\n",
              "          if (!dataTable) return;\n",
              "\n",
              "          const docLinkHtml = 'Like what you see? Visit the ' +\n",
              "            '<a target=\"_blank\" href=https://colab.research.google.com/notebooks/data_table.ipynb>data table notebook</a>'\n",
              "            + ' to learn more about interactive tables.';\n",
              "          element.innerHTML = '';\n",
              "          dataTable['output_type'] = 'display_data';\n",
              "          await google.colab.output.renderOutput(dataTable, element);\n",
              "          const docLink = document.createElement('div');\n",
              "          docLink.innerHTML = docLinkHtml;\n",
              "          element.appendChild(docLink);\n",
              "        }\n",
              "      </script>\n",
              "    </div>\n",
              "  </div>\n",
              "  "
            ]
          },
          "metadata": {},
          "execution_count": 41
        }
      ]
    },
    {
      "cell_type": "code",
      "source": [
        "gdfHeatMap=gdfHM[['Trip Start Timestamp','lon','lat','Trip ID']]\n",
        "gdfHeatMap"
      ],
      "metadata": {
        "colab": {
          "base_uri": "https://localhost:8080/",
          "height": 424
        },
        "id": "XrhF2nNlz8yK",
        "outputId": "3c02cd3e-984c-4db8-cc7c-4c0de5036ba7"
      },
      "execution_count": null,
      "outputs": [
        {
          "output_type": "execute_result",
          "data": {
            "text/plain": [
              "        Trip Start Timestamp        lon        lat  \\\n",
              "4522445  2022-10-28 00:00:00 -87.913625  41.980264   \n",
              "4522446  2022-10-28 00:00:00 -87.769615  41.792592   \n",
              "4522447  2022-10-28 00:00:00 -87.655879  41.965812   \n",
              "4522448  2022-10-28 00:00:00 -87.633308  41.899602   \n",
              "4522449  2022-10-28 00:00:00 -87.633308  41.899602   \n",
              "...                      ...        ...        ...   \n",
              "4539192  2022-10-28 23:45:00 -87.633308  41.899602   \n",
              "4539193  2022-10-28 23:45:00 -87.632746  41.880994   \n",
              "4539194  2022-10-28 23:45:00 -87.570058  41.690633   \n",
              "4539195  2022-10-28 23:45:00 -87.913625  41.980264   \n",
              "4539196  2022-10-28 23:45:00 -87.633308  41.899602   \n",
              "\n",
              "                                          Trip ID  \n",
              "4522445  18e5cceaf5ff41ee8db77aa614c6fdada9210332  \n",
              "4522446  4e9099aa4c53b2627197f5b2dae9b51eaa7f8a22  \n",
              "4522447  57082962be515aa293c61e45a90c56a6eded8dc4  \n",
              "4522448  65b6ec0ed72abed029281ddc72bc67d6aad4447b  \n",
              "4522449  6a4df51d4ebf55e8c2b24de78fad9cfdbee7d49b  \n",
              "...                                           ...  \n",
              "4539192  f3479a2bfdef3546234a9f210da726d621027802  \n",
              "4539193  f386af97ed02fd9abd3a5bf9fdf93e1f82c654a9  \n",
              "4539194  f5315e4a062a263fc57eac416041771b277c9965  \n",
              "4539195  f976f32f9e03d4a90bb12d9cdad1fdfd55c530ee  \n",
              "4539196  fe210f8ce70d39e45e6fe697a64e1fbac7b9f8ab  \n",
              "\n",
              "[16752 rows x 4 columns]"
            ],
            "text/html": [
              "\n",
              "  <div id=\"df-ba637c0f-fc04-4d05-8b4f-5eb1f29c6bce\">\n",
              "    <div class=\"colab-df-container\">\n",
              "      <div>\n",
              "<style scoped>\n",
              "    .dataframe tbody tr th:only-of-type {\n",
              "        vertical-align: middle;\n",
              "    }\n",
              "\n",
              "    .dataframe tbody tr th {\n",
              "        vertical-align: top;\n",
              "    }\n",
              "\n",
              "    .dataframe thead th {\n",
              "        text-align: right;\n",
              "    }\n",
              "</style>\n",
              "<table border=\"1\" class=\"dataframe\">\n",
              "  <thead>\n",
              "    <tr style=\"text-align: right;\">\n",
              "      <th></th>\n",
              "      <th>Trip Start Timestamp</th>\n",
              "      <th>lon</th>\n",
              "      <th>lat</th>\n",
              "      <th>Trip ID</th>\n",
              "    </tr>\n",
              "  </thead>\n",
              "  <tbody>\n",
              "    <tr>\n",
              "      <th>4522445</th>\n",
              "      <td>2022-10-28 00:00:00</td>\n",
              "      <td>-87.913625</td>\n",
              "      <td>41.980264</td>\n",
              "      <td>18e5cceaf5ff41ee8db77aa614c6fdada9210332</td>\n",
              "    </tr>\n",
              "    <tr>\n",
              "      <th>4522446</th>\n",
              "      <td>2022-10-28 00:00:00</td>\n",
              "      <td>-87.769615</td>\n",
              "      <td>41.792592</td>\n",
              "      <td>4e9099aa4c53b2627197f5b2dae9b51eaa7f8a22</td>\n",
              "    </tr>\n",
              "    <tr>\n",
              "      <th>4522447</th>\n",
              "      <td>2022-10-28 00:00:00</td>\n",
              "      <td>-87.655879</td>\n",
              "      <td>41.965812</td>\n",
              "      <td>57082962be515aa293c61e45a90c56a6eded8dc4</td>\n",
              "    </tr>\n",
              "    <tr>\n",
              "      <th>4522448</th>\n",
              "      <td>2022-10-28 00:00:00</td>\n",
              "      <td>-87.633308</td>\n",
              "      <td>41.899602</td>\n",
              "      <td>65b6ec0ed72abed029281ddc72bc67d6aad4447b</td>\n",
              "    </tr>\n",
              "    <tr>\n",
              "      <th>4522449</th>\n",
              "      <td>2022-10-28 00:00:00</td>\n",
              "      <td>-87.633308</td>\n",
              "      <td>41.899602</td>\n",
              "      <td>6a4df51d4ebf55e8c2b24de78fad9cfdbee7d49b</td>\n",
              "    </tr>\n",
              "    <tr>\n",
              "      <th>...</th>\n",
              "      <td>...</td>\n",
              "      <td>...</td>\n",
              "      <td>...</td>\n",
              "      <td>...</td>\n",
              "    </tr>\n",
              "    <tr>\n",
              "      <th>4539192</th>\n",
              "      <td>2022-10-28 23:45:00</td>\n",
              "      <td>-87.633308</td>\n",
              "      <td>41.899602</td>\n",
              "      <td>f3479a2bfdef3546234a9f210da726d621027802</td>\n",
              "    </tr>\n",
              "    <tr>\n",
              "      <th>4539193</th>\n",
              "      <td>2022-10-28 23:45:00</td>\n",
              "      <td>-87.632746</td>\n",
              "      <td>41.880994</td>\n",
              "      <td>f386af97ed02fd9abd3a5bf9fdf93e1f82c654a9</td>\n",
              "    </tr>\n",
              "    <tr>\n",
              "      <th>4539194</th>\n",
              "      <td>2022-10-28 23:45:00</td>\n",
              "      <td>-87.570058</td>\n",
              "      <td>41.690633</td>\n",
              "      <td>f5315e4a062a263fc57eac416041771b277c9965</td>\n",
              "    </tr>\n",
              "    <tr>\n",
              "      <th>4539195</th>\n",
              "      <td>2022-10-28 23:45:00</td>\n",
              "      <td>-87.913625</td>\n",
              "      <td>41.980264</td>\n",
              "      <td>f976f32f9e03d4a90bb12d9cdad1fdfd55c530ee</td>\n",
              "    </tr>\n",
              "    <tr>\n",
              "      <th>4539196</th>\n",
              "      <td>2022-10-28 23:45:00</td>\n",
              "      <td>-87.633308</td>\n",
              "      <td>41.899602</td>\n",
              "      <td>fe210f8ce70d39e45e6fe697a64e1fbac7b9f8ab</td>\n",
              "    </tr>\n",
              "  </tbody>\n",
              "</table>\n",
              "<p>16752 rows × 4 columns</p>\n",
              "</div>\n",
              "      <button class=\"colab-df-convert\" onclick=\"convertToInteractive('df-ba637c0f-fc04-4d05-8b4f-5eb1f29c6bce')\"\n",
              "              title=\"Convert this dataframe to an interactive table.\"\n",
              "              style=\"display:none;\">\n",
              "        \n",
              "  <svg xmlns=\"http://www.w3.org/2000/svg\" height=\"24px\"viewBox=\"0 0 24 24\"\n",
              "       width=\"24px\">\n",
              "    <path d=\"M0 0h24v24H0V0z\" fill=\"none\"/>\n",
              "    <path d=\"M18.56 5.44l.94 2.06.94-2.06 2.06-.94-2.06-.94-.94-2.06-.94 2.06-2.06.94zm-11 1L8.5 8.5l.94-2.06 2.06-.94-2.06-.94L8.5 2.5l-.94 2.06-2.06.94zm10 10l.94 2.06.94-2.06 2.06-.94-2.06-.94-.94-2.06-.94 2.06-2.06.94z\"/><path d=\"M17.41 7.96l-1.37-1.37c-.4-.4-.92-.59-1.43-.59-.52 0-1.04.2-1.43.59L10.3 9.45l-7.72 7.72c-.78.78-.78 2.05 0 2.83L4 21.41c.39.39.9.59 1.41.59.51 0 1.02-.2 1.41-.59l7.78-7.78 2.81-2.81c.8-.78.8-2.07 0-2.86zM5.41 20L4 18.59l7.72-7.72 1.47 1.35L5.41 20z\"/>\n",
              "  </svg>\n",
              "      </button>\n",
              "      \n",
              "  <style>\n",
              "    .colab-df-container {\n",
              "      display:flex;\n",
              "      flex-wrap:wrap;\n",
              "      gap: 12px;\n",
              "    }\n",
              "\n",
              "    .colab-df-convert {\n",
              "      background-color: #E8F0FE;\n",
              "      border: none;\n",
              "      border-radius: 50%;\n",
              "      cursor: pointer;\n",
              "      display: none;\n",
              "      fill: #1967D2;\n",
              "      height: 32px;\n",
              "      padding: 0 0 0 0;\n",
              "      width: 32px;\n",
              "    }\n",
              "\n",
              "    .colab-df-convert:hover {\n",
              "      background-color: #E2EBFA;\n",
              "      box-shadow: 0px 1px 2px rgba(60, 64, 67, 0.3), 0px 1px 3px 1px rgba(60, 64, 67, 0.15);\n",
              "      fill: #174EA6;\n",
              "    }\n",
              "\n",
              "    [theme=dark] .colab-df-convert {\n",
              "      background-color: #3B4455;\n",
              "      fill: #D2E3FC;\n",
              "    }\n",
              "\n",
              "    [theme=dark] .colab-df-convert:hover {\n",
              "      background-color: #434B5C;\n",
              "      box-shadow: 0px 1px 3px 1px rgba(0, 0, 0, 0.15);\n",
              "      filter: drop-shadow(0px 1px 2px rgba(0, 0, 0, 0.3));\n",
              "      fill: #FFFFFF;\n",
              "    }\n",
              "  </style>\n",
              "\n",
              "      <script>\n",
              "        const buttonEl =\n",
              "          document.querySelector('#df-ba637c0f-fc04-4d05-8b4f-5eb1f29c6bce button.colab-df-convert');\n",
              "        buttonEl.style.display =\n",
              "          google.colab.kernel.accessAllowed ? 'block' : 'none';\n",
              "\n",
              "        async function convertToInteractive(key) {\n",
              "          const element = document.querySelector('#df-ba637c0f-fc04-4d05-8b4f-5eb1f29c6bce');\n",
              "          const dataTable =\n",
              "            await google.colab.kernel.invokeFunction('convertToInteractive',\n",
              "                                                     [key], {});\n",
              "          if (!dataTable) return;\n",
              "\n",
              "          const docLinkHtml = 'Like what you see? Visit the ' +\n",
              "            '<a target=\"_blank\" href=https://colab.research.google.com/notebooks/data_table.ipynb>data table notebook</a>'\n",
              "            + ' to learn more about interactive tables.';\n",
              "          element.innerHTML = '';\n",
              "          dataTable['output_type'] = 'display_data';\n",
              "          await google.colab.output.renderOutput(dataTable, element);\n",
              "          const docLink = document.createElement('div');\n",
              "          docLink.innerHTML = docLinkHtml;\n",
              "          element.appendChild(docLink);\n",
              "        }\n",
              "      </script>\n",
              "    </div>\n",
              "  </div>\n",
              "  "
            ]
          },
          "metadata": {},
          "execution_count": 42
        }
      ]
    },
    {
      "cell_type": "code",
      "source": [
        "gdfHeatMap['hour']=gdfHeatMap['Trip Start Timestamp'].apply(lambda x: x.hour+1)"
      ],
      "metadata": {
        "id": "crubhMsoJ14E"
      },
      "execution_count": null,
      "outputs": []
    },
    {
      "cell_type": "code",
      "source": [
        "lat_long_list = []\n",
        "for i in range(1, 25):\n",
        "    temp=[]\n",
        "    for index, instance in gdfHeatMap[gdfHeatMap['hour'] == i].iterrows():\n",
        "        temp.append([instance['lat'],instance['lon']])\n",
        "    lat_long_list.append(temp)"
      ],
      "metadata": {
        "id": "AHrv5onxJ2ek"
      },
      "execution_count": null,
      "outputs": []
    },
    {
      "cell_type": "code",
      "source": [
        "# HeatMap with time slider for this weekend\n",
        "heatMap = folium.Map(location=[41.79259, -87.76962], zoom_start=11)\n",
        "HeatMapWithTime(lat_long_list,radius=15,auto_play=True,position='bottomright').add_to(heatMap)\n",
        "heatMap\n",
        "\n",
        "# Saving the map\n",
        "heatMap.save('heatMapSlider.html')"
      ],
      "metadata": {
        "id": "_1hDuWFqJ6im"
      },
      "execution_count": null,
      "outputs": []
    },
    {
      "cell_type": "markdown",
      "source": [
        "### CLUSTERING 2.0\n",
        "-used in project"
      ],
      "metadata": {
        "id": "PlF5iFMY9cHu"
      }
    },
    {
      "cell_type": "code",
      "source": [
        "gdf['lon'] = gdf['Pickup Centroid Location'].x\n",
        "gdf['lat'] = gdf['Pickup Centroid Location'].y\n",
        "X = gdf.groupby(['lon', 'lat']).count().reset_index() \n",
        "X"
      ],
      "metadata": {
        "id": "aotmMkm890Fb",
        "colab": {
          "base_uri": "https://localhost:8080/",
          "height": 424
        },
        "outputId": "6ff369ba-9030-4238-b6b9-7d11a8ac7a00"
      },
      "execution_count": null,
      "outputs": [
        {
          "output_type": "execute_result",
          "data": {
            "text/plain": [
              "           lon        lat  Unnamed: 0  Trip ID  Taxi ID  Trip Start Timestamp  \\\n",
              "0   -87.913625  41.980264      267298   267298   267298                267298   \n",
              "1   -87.903040  41.979071      376182   376182   376182                376182   \n",
              "2   -87.901886  42.005560          10       10       10                    10   \n",
              "3   -87.877305  41.982775        1865     1865     1865                  1865   \n",
              "4   -87.844359  41.975338          81       81       81                    81   \n",
              "..         ...        ...         ...      ...      ...                   ...   \n",
              "578 -87.540936  41.663671        2706     2706     2706                  2706   \n",
              "579 -87.539916  41.713655           4        4        4                     4   \n",
              "580 -87.535285  41.665168           4        4        4                     4   \n",
              "581 -87.534903  41.707311        2542     2542     2542                  2542   \n",
              "582 -87.531386  41.720463           2        2        2                     2   \n",
              "\n",
              "     Trip End Timestamp  Pickup Community Area  Pickup Centroid Location  \n",
              "0                267298                 267298                    267298  \n",
              "1                376182                 376182                    376182  \n",
              "2                    10                     10                        10  \n",
              "3                  1865                      0                      1865  \n",
              "4                    81                     81                        81  \n",
              "..                  ...                    ...                       ...  \n",
              "578                2706                   2706                      2706  \n",
              "579                   4                      4                         4  \n",
              "580                   4                      4                         4  \n",
              "581                2542                   2542                      2542  \n",
              "582                   2                      2                         2  \n",
              "\n",
              "[583 rows x 9 columns]"
            ],
            "text/html": [
              "\n",
              "  <div id=\"df-e92a44fd-b350-4218-a0fb-de763bdaeb89\">\n",
              "    <div class=\"colab-df-container\">\n",
              "      <div>\n",
              "<style scoped>\n",
              "    .dataframe tbody tr th:only-of-type {\n",
              "        vertical-align: middle;\n",
              "    }\n",
              "\n",
              "    .dataframe tbody tr th {\n",
              "        vertical-align: top;\n",
              "    }\n",
              "\n",
              "    .dataframe thead th {\n",
              "        text-align: right;\n",
              "    }\n",
              "</style>\n",
              "<table border=\"1\" class=\"dataframe\">\n",
              "  <thead>\n",
              "    <tr style=\"text-align: right;\">\n",
              "      <th></th>\n",
              "      <th>lon</th>\n",
              "      <th>lat</th>\n",
              "      <th>Unnamed: 0</th>\n",
              "      <th>Trip ID</th>\n",
              "      <th>Taxi ID</th>\n",
              "      <th>Trip Start Timestamp</th>\n",
              "      <th>Trip End Timestamp</th>\n",
              "      <th>Pickup Community Area</th>\n",
              "      <th>Pickup Centroid Location</th>\n",
              "    </tr>\n",
              "  </thead>\n",
              "  <tbody>\n",
              "    <tr>\n",
              "      <th>0</th>\n",
              "      <td>-87.913625</td>\n",
              "      <td>41.980264</td>\n",
              "      <td>267298</td>\n",
              "      <td>267298</td>\n",
              "      <td>267298</td>\n",
              "      <td>267298</td>\n",
              "      <td>267298</td>\n",
              "      <td>267298</td>\n",
              "      <td>267298</td>\n",
              "    </tr>\n",
              "    <tr>\n",
              "      <th>1</th>\n",
              "      <td>-87.903040</td>\n",
              "      <td>41.979071</td>\n",
              "      <td>376182</td>\n",
              "      <td>376182</td>\n",
              "      <td>376182</td>\n",
              "      <td>376182</td>\n",
              "      <td>376182</td>\n",
              "      <td>376182</td>\n",
              "      <td>376182</td>\n",
              "    </tr>\n",
              "    <tr>\n",
              "      <th>2</th>\n",
              "      <td>-87.901886</td>\n",
              "      <td>42.005560</td>\n",
              "      <td>10</td>\n",
              "      <td>10</td>\n",
              "      <td>10</td>\n",
              "      <td>10</td>\n",
              "      <td>10</td>\n",
              "      <td>10</td>\n",
              "      <td>10</td>\n",
              "    </tr>\n",
              "    <tr>\n",
              "      <th>3</th>\n",
              "      <td>-87.877305</td>\n",
              "      <td>41.982775</td>\n",
              "      <td>1865</td>\n",
              "      <td>1865</td>\n",
              "      <td>1865</td>\n",
              "      <td>1865</td>\n",
              "      <td>1865</td>\n",
              "      <td>0</td>\n",
              "      <td>1865</td>\n",
              "    </tr>\n",
              "    <tr>\n",
              "      <th>4</th>\n",
              "      <td>-87.844359</td>\n",
              "      <td>41.975338</td>\n",
              "      <td>81</td>\n",
              "      <td>81</td>\n",
              "      <td>81</td>\n",
              "      <td>81</td>\n",
              "      <td>81</td>\n",
              "      <td>81</td>\n",
              "      <td>81</td>\n",
              "    </tr>\n",
              "    <tr>\n",
              "      <th>...</th>\n",
              "      <td>...</td>\n",
              "      <td>...</td>\n",
              "      <td>...</td>\n",
              "      <td>...</td>\n",
              "      <td>...</td>\n",
              "      <td>...</td>\n",
              "      <td>...</td>\n",
              "      <td>...</td>\n",
              "      <td>...</td>\n",
              "    </tr>\n",
              "    <tr>\n",
              "      <th>578</th>\n",
              "      <td>-87.540936</td>\n",
              "      <td>41.663671</td>\n",
              "      <td>2706</td>\n",
              "      <td>2706</td>\n",
              "      <td>2706</td>\n",
              "      <td>2706</td>\n",
              "      <td>2706</td>\n",
              "      <td>2706</td>\n",
              "      <td>2706</td>\n",
              "    </tr>\n",
              "    <tr>\n",
              "      <th>579</th>\n",
              "      <td>-87.539916</td>\n",
              "      <td>41.713655</td>\n",
              "      <td>4</td>\n",
              "      <td>4</td>\n",
              "      <td>4</td>\n",
              "      <td>4</td>\n",
              "      <td>4</td>\n",
              "      <td>4</td>\n",
              "      <td>4</td>\n",
              "    </tr>\n",
              "    <tr>\n",
              "      <th>580</th>\n",
              "      <td>-87.535285</td>\n",
              "      <td>41.665168</td>\n",
              "      <td>4</td>\n",
              "      <td>4</td>\n",
              "      <td>4</td>\n",
              "      <td>4</td>\n",
              "      <td>4</td>\n",
              "      <td>4</td>\n",
              "      <td>4</td>\n",
              "    </tr>\n",
              "    <tr>\n",
              "      <th>581</th>\n",
              "      <td>-87.534903</td>\n",
              "      <td>41.707311</td>\n",
              "      <td>2542</td>\n",
              "      <td>2542</td>\n",
              "      <td>2542</td>\n",
              "      <td>2542</td>\n",
              "      <td>2542</td>\n",
              "      <td>2542</td>\n",
              "      <td>2542</td>\n",
              "    </tr>\n",
              "    <tr>\n",
              "      <th>582</th>\n",
              "      <td>-87.531386</td>\n",
              "      <td>41.720463</td>\n",
              "      <td>2</td>\n",
              "      <td>2</td>\n",
              "      <td>2</td>\n",
              "      <td>2</td>\n",
              "      <td>2</td>\n",
              "      <td>2</td>\n",
              "      <td>2</td>\n",
              "    </tr>\n",
              "  </tbody>\n",
              "</table>\n",
              "<p>583 rows × 9 columns</p>\n",
              "</div>\n",
              "      <button class=\"colab-df-convert\" onclick=\"convertToInteractive('df-e92a44fd-b350-4218-a0fb-de763bdaeb89')\"\n",
              "              title=\"Convert this dataframe to an interactive table.\"\n",
              "              style=\"display:none;\">\n",
              "        \n",
              "  <svg xmlns=\"http://www.w3.org/2000/svg\" height=\"24px\"viewBox=\"0 0 24 24\"\n",
              "       width=\"24px\">\n",
              "    <path d=\"M0 0h24v24H0V0z\" fill=\"none\"/>\n",
              "    <path d=\"M18.56 5.44l.94 2.06.94-2.06 2.06-.94-2.06-.94-.94-2.06-.94 2.06-2.06.94zm-11 1L8.5 8.5l.94-2.06 2.06-.94-2.06-.94L8.5 2.5l-.94 2.06-2.06.94zm10 10l.94 2.06.94-2.06 2.06-.94-2.06-.94-.94-2.06-.94 2.06-2.06.94z\"/><path d=\"M17.41 7.96l-1.37-1.37c-.4-.4-.92-.59-1.43-.59-.52 0-1.04.2-1.43.59L10.3 9.45l-7.72 7.72c-.78.78-.78 2.05 0 2.83L4 21.41c.39.39.9.59 1.41.59.51 0 1.02-.2 1.41-.59l7.78-7.78 2.81-2.81c.8-.78.8-2.07 0-2.86zM5.41 20L4 18.59l7.72-7.72 1.47 1.35L5.41 20z\"/>\n",
              "  </svg>\n",
              "      </button>\n",
              "      \n",
              "  <style>\n",
              "    .colab-df-container {\n",
              "      display:flex;\n",
              "      flex-wrap:wrap;\n",
              "      gap: 12px;\n",
              "    }\n",
              "\n",
              "    .colab-df-convert {\n",
              "      background-color: #E8F0FE;\n",
              "      border: none;\n",
              "      border-radius: 50%;\n",
              "      cursor: pointer;\n",
              "      display: none;\n",
              "      fill: #1967D2;\n",
              "      height: 32px;\n",
              "      padding: 0 0 0 0;\n",
              "      width: 32px;\n",
              "    }\n",
              "\n",
              "    .colab-df-convert:hover {\n",
              "      background-color: #E2EBFA;\n",
              "      box-shadow: 0px 1px 2px rgba(60, 64, 67, 0.3), 0px 1px 3px 1px rgba(60, 64, 67, 0.15);\n",
              "      fill: #174EA6;\n",
              "    }\n",
              "\n",
              "    [theme=dark] .colab-df-convert {\n",
              "      background-color: #3B4455;\n",
              "      fill: #D2E3FC;\n",
              "    }\n",
              "\n",
              "    [theme=dark] .colab-df-convert:hover {\n",
              "      background-color: #434B5C;\n",
              "      box-shadow: 0px 1px 3px 1px rgba(0, 0, 0, 0.15);\n",
              "      filter: drop-shadow(0px 1px 2px rgba(0, 0, 0, 0.3));\n",
              "      fill: #FFFFFF;\n",
              "    }\n",
              "  </style>\n",
              "\n",
              "      <script>\n",
              "        const buttonEl =\n",
              "          document.querySelector('#df-e92a44fd-b350-4218-a0fb-de763bdaeb89 button.colab-df-convert');\n",
              "        buttonEl.style.display =\n",
              "          google.colab.kernel.accessAllowed ? 'block' : 'none';\n",
              "\n",
              "        async function convertToInteractive(key) {\n",
              "          const element = document.querySelector('#df-e92a44fd-b350-4218-a0fb-de763bdaeb89');\n",
              "          const dataTable =\n",
              "            await google.colab.kernel.invokeFunction('convertToInteractive',\n",
              "                                                     [key], {});\n",
              "          if (!dataTable) return;\n",
              "\n",
              "          const docLinkHtml = 'Like what you see? Visit the ' +\n",
              "            '<a target=\"_blank\" href=https://colab.research.google.com/notebooks/data_table.ipynb>data table notebook</a>'\n",
              "            + ' to learn more about interactive tables.';\n",
              "          element.innerHTML = '';\n",
              "          dataTable['output_type'] = 'display_data';\n",
              "          await google.colab.output.renderOutput(dataTable, element);\n",
              "          const docLink = document.createElement('div');\n",
              "          docLink.innerHTML = docLinkHtml;\n",
              "          element.appendChild(docLink);\n",
              "        }\n",
              "      </script>\n",
              "    </div>\n",
              "  </div>\n",
              "  "
            ]
          },
          "metadata": {},
          "execution_count": 10
        }
      ]
    },
    {
      "cell_type": "code",
      "source": [
        "# Creates new columns converting coordinate degrees to radians.\n",
        "for column in X[[\"lat\", \"lon\"]]:\n",
        "    rad = np.deg2rad(X[column].values)\n",
        "    X[f'{column}_rad'] = rad"
      ],
      "metadata": {
        "id": "wSXBIMv6-J2m"
      },
      "execution_count": null,
      "outputs": []
    },
    {
      "cell_type": "code",
      "source": [
        "tree = BallTree(X[['lat_rad','lon_rad']], metric='haversine')\n",
        "distances, indices = tree.query(X[[\"lat_rad\", \"lon_rad\"]].values, k =20)\n",
        "distances=distances*6371.0  #to km\n",
        "#distances[0]"
      ],
      "metadata": {
        "id": "u731azDd-Tlo"
      },
      "execution_count": null,
      "outputs": []
    },
    {
      "cell_type": "code",
      "source": [
        "distances = np.sort(distances, axis=0)\n",
        "\n",
        "distances_2 = distances[:,1]\n",
        "distances_5 = distances[:,4]\n",
        "distances_10 = distances[:,9]\n",
        "distances_15= distances[:,14]"
      ],
      "metadata": {
        "id": "NU3nG_88-iJ3"
      },
      "execution_count": null,
      "outputs": []
    },
    {
      "cell_type": "code",
      "source": [
        "plt.plot(distances_2)"
      ],
      "metadata": {
        "colab": {
          "base_uri": "https://localhost:8080/",
          "height": 282
        },
        "id": "Pe7sP8hv-mjC",
        "outputId": "89aa48ee-1e92-47c0-d9a0-f890af5926f5"
      },
      "execution_count": null,
      "outputs": [
        {
          "output_type": "execute_result",
          "data": {
            "text/plain": [
              "[<matplotlib.lines.Line2D at 0x7efe201ce5e0>]"
            ]
          },
          "metadata": {},
          "execution_count": 15
        },
        {
          "output_type": "display_data",
          "data": {
            "text/plain": [
              "<Figure size 432x288 with 1 Axes>"
            ],
            "image/png": "[encoded data removed]"
          },
          "metadata": {
            "needs_background": "light"
          }
        }
      ]
    },
    {
      "cell_type": "code",
      "source": [
        "plt.plot(distances_5)"
      ],
      "metadata": {
        "id": "Egpfwsk_-_rX",
        "colab": {
          "base_uri": "https://localhost:8080/",
          "height": 286
        },
        "outputId": "57d2527a-804c-4d6b-a229-a4299a366bb2"
      },
      "execution_count": null,
      "outputs": [
        {
          "output_type": "execute_result",
          "data": {
            "text/plain": [
              "[<matplotlib.lines.Line2D at 0x7efe2015ffa0>]"
            ]
          },
          "metadata": {},
          "execution_count": 16
        },
        {
          "output_type": "display_data",
          "data": {
            "text/plain": [
              "<Figure size 432x288 with 1 Axes>"
            ],
            "image/png": "[encoded data removed]"
          },
          "metadata": {
            "needs_background": "light"
          }
        }
      ]
    },
    {
      "cell_type": "code",
      "source": [
        "plt.plot(distances_10)"
      ],
      "metadata": {
        "id": "f3arf7r__A4X",
        "colab": {
          "base_uri": "https://localhost:8080/",
          "height": 284
        },
        "outputId": "0579f58d-02f5-412e-a169-5a889607bfeb"
      },
      "execution_count": null,
      "outputs": [
        {
          "output_type": "execute_result",
          "data": {
            "text/plain": [
              "[<matplotlib.lines.Line2D at 0x7efe10f75e20>]"
            ]
          },
          "metadata": {},
          "execution_count": 17
        },
        {
          "output_type": "display_data",
          "data": {
            "text/plain": [
              "<Figure size 432x288 with 1 Axes>"
            ],
            "image/png": "[encoded data removed]"
          },
          "metadata": {
            "needs_background": "light"
          }
        }
      ]
    },
    {
      "cell_type": "code",
      "source": [
        "plt.plot(distances_15)"
      ],
      "metadata": {
        "id": "gQmgV_8r_Cc_",
        "colab": {
          "base_uri": "https://localhost:8080/",
          "height": 283
        },
        "outputId": "8649f432-f859-40e7-f722-0e3f1d63b3a7"
      },
      "execution_count": null,
      "outputs": [
        {
          "output_type": "execute_result",
          "data": {
            "text/plain": [
              "[<matplotlib.lines.Line2D at 0x7efe24db06a0>]"
            ]
          },
          "metadata": {},
          "execution_count": 18
        },
        {
          "output_type": "display_data",
          "data": {
            "text/plain": [
              "<Figure size 432x288 with 1 Axes>"
            ],
            "image/png": "[encoded data removed]"
          },
          "metadata": {
            "needs_background": "light"
          }
        }
      ]
    },
    {
      "cell_type": "code",
      "source": [
        "data_2 = np.vstack(( [i for i in range(len(distances))],distances_2))\n",
        "data_5 = np.vstack(( [i for i in range(len(distances))],distances_5))\n",
        "data_10 = np.vstack(( [i for i in range(len(distances))],distances_10))\n",
        "data_15 = np.vstack(( [i for i in range(len(distances))],distances_15))\n",
        "\n",
        "data_2=data_2.T\n",
        "data_5=data_5.T\n",
        "data_10=data_10.T\n",
        "data_15=data_15.T"
      ],
      "metadata": {
        "id": "jgm6iuRi_Emd"
      },
      "execution_count": null,
      "outputs": []
    },
    {
      "cell_type": "code",
      "source": [
        "!pip install kneebow"
      ],
      "metadata": {
        "colab": {
          "base_uri": "https://localhost:8080/"
        },
        "id": "nN2XL8Mc_EY_",
        "outputId": "01c98e8a-656d-43fc-d392-09a7060063f6"
      },
      "execution_count": null,
      "outputs": [
        {
          "output_type": "stream",
          "name": "stdout",
          "text": [
            "Looking in indexes: https://pypi.org/simple, https://us-python.pkg.dev/colab-wheels/public/simple/\n",
            "Collecting kneebow\n",
            "  Downloading kneebow-1.0.1-py3-none-any.whl (4.7 kB)\n",
            "Requirement already satisfied: numpy in /usr/local/lib/python3.8/dist-packages (from kneebow) (1.21.6)\n",
            "Requirement already satisfied: matplotlib in /usr/local/lib/python3.8/dist-packages (from kneebow) (3.2.2)\n",
            "Requirement already satisfied: scikit-learn in /usr/local/lib/python3.8/dist-packages (from kneebow) (1.0.2)\n",
            "Requirement already satisfied: kiwisolver>=1.0.1 in /usr/local/lib/python3.8/dist-packages (from matplotlib->kneebow) (1.4.4)\n",
            "Requirement already satisfied: cycler>=0.10 in /usr/local/lib/python3.8/dist-packages (from matplotlib->kneebow) (0.11.0)\n",
            "Requirement already satisfied: python-dateutil>=2.1 in /usr/local/lib/python3.8/dist-packages (from matplotlib->kneebow) (2.8.2)\n",
            "Requirement already satisfied: pyparsing!=2.0.4,!=2.1.2,!=2.1.6,>=2.0.1 in /usr/local/lib/python3.8/dist-packages (from matplotlib->kneebow) (3.0.9)\n",
            "Requirement already satisfied: scipy>=1.1.0 in /usr/local/lib/python3.8/dist-packages (from scikit-learn->kneebow) (1.7.3)\n",
            "Requirement already satisfied: joblib>=0.11 in /usr/local/lib/python3.8/dist-packages (from scikit-learn->kneebow) (1.2.0)\n",
            "Requirement already satisfied: threadpoolctl>=2.0.0 in /usr/local/lib/python3.8/dist-packages (from scikit-learn->kneebow) (3.1.0)\n",
            "Requirement already satisfied: six>=1.5 in /usr/local/lib/python3.8/dist-packages (from python-dateutil>=2.1->matplotlib->kneebow) (1.15.0)\n",
            "Installing collected packages: kneebow\n",
            "Successfully installed kneebow-1.0.1\n"
          ]
        }
      ]
    },
    {
      "cell_type": "code",
      "source": [
        "plt.scatter(data_2[:, 0], data_2[:, 1]) #checking"
      ],
      "metadata": {
        "colab": {
          "base_uri": "https://localhost:8080/",
          "height": 282
        },
        "id": "yEHfQX7W_LP2",
        "outputId": "a48041d8-4df2-4733-f04d-11d1af2ee846"
      },
      "execution_count": null,
      "outputs": [
        {
          "output_type": "execute_result",
          "data": {
            "text/plain": [
              "<matplotlib.collections.PathCollection at 0x7efe1db84e80>"
            ]
          },
          "metadata": {},
          "execution_count": 21
        },
        {
          "output_type": "display_data",
          "data": {
            "text/plain": [
              "<Figure size 432x288 with 1 Axes>"
            ],
            "image/png": "[encoded data removed]"
          },
          "metadata": {
            "needs_background": "light"
          }
        }
      ]
    },
    {
      "cell_type": "code",
      "source": [
        "from kneebow.rotor import Rotor"
      ],
      "metadata": {
        "id": "TYkiQ2S22ch7"
      },
      "execution_count": null,
      "outputs": []
    },
    {
      "cell_type": "code",
      "source": [
        "rotor = Rotor()\n",
        "rotor.fit_rotate(data_2)\n",
        "elbow_index_2 = rotor.get_elbow_index()"
      ],
      "metadata": {
        "id": "e2pXMx095RG6"
      },
      "execution_count": null,
      "outputs": []
    },
    {
      "cell_type": "code",
      "source": [
        "rotor = Rotor()\n",
        "rotor.fit_rotate(data_5)\n",
        "elbow_index_5 = rotor.get_elbow_index()"
      ],
      "metadata": {
        "id": "m1JKOFRCbIYO"
      },
      "execution_count": null,
      "outputs": []
    },
    {
      "cell_type": "code",
      "source": [
        "rotor = Rotor()\n",
        "rotor.fit_rotate(data_10)\n",
        "elbow_index_10 = rotor.get_elbow_index()"
      ],
      "metadata": {
        "id": "JMQqQludbJLF"
      },
      "execution_count": null,
      "outputs": []
    },
    {
      "cell_type": "code",
      "source": [
        "rotor = Rotor()\n",
        "rotor.fit_rotate(data_15)\n",
        "elbow_index_15 = rotor.get_elbow_index()"
      ],
      "metadata": {
        "id": "oBYjNlUCbJ2o"
      },
      "execution_count": null,
      "outputs": []
    },
    {
      "cell_type": "code",
      "source": [
        "parametar_2=data_2[elbow_index_2][1] #in km, use as a parameter\n",
        "parametar_5=data_5[elbow_index_5][1]\n",
        "parametar_10=data_10[elbow_index_10][1]\n",
        "parametar_15=data_15[elbow_index_15][1]"
      ],
      "metadata": {
        "id": "SFY3FU_S5RER"
      },
      "execution_count": null,
      "outputs": []
    },
    {
      "cell_type": "code",
      "source": [
        "plt.rcParams[\"figure.figsize\"] = [7.00, 3.50]\n",
        "plt.rcParams[\"figure.autolayout\"] = True"
      ],
      "metadata": {
        "id": "HcuTSY0G_3bX"
      },
      "execution_count": null,
      "outputs": []
    },
    {
      "cell_type": "code",
      "source": [
        "plt.plot(distances_2)\n",
        "x = [elbow_index_2]\n",
        "y = [data_2[elbow_index_2][1]]\n",
        "\n",
        "plt.plot(x, y, marker=\"o\", markersize=6, markeredgecolor=\"red\", markerfacecolor=\"green\")"
      ],
      "metadata": {
        "colab": {
          "base_uri": "https://localhost:8080/",
          "height": 278
        },
        "id": "b3hQfgOchoCo",
        "outputId": "a6446c05-19b9-48c0-bf81-eba958b62fc2"
      },
      "execution_count": null,
      "outputs": [
        {
          "output_type": "execute_result",
          "data": {
            "text/plain": [
              "[<matplotlib.lines.Line2D at 0x7efe18ee14c0>]"
            ]
          },
          "metadata": {},
          "execution_count": 29
        },
        {
          "output_type": "display_data",
          "data": {
            "text/plain": [
              "<Figure size 504x252 with 1 Axes>"
            ],
            "image/png": "[encoded data removed]"
          },
          "metadata": {
            "needs_background": "light"
          }
        }
      ]
    },
    {
      "cell_type": "code",
      "source": [
        "plt.plot(distances_5)\n",
        "x = [elbow_index_5]\n",
        "y = [data_5[elbow_index_5][1]]\n",
        "\n",
        "plt.plot(x, y, marker=\"o\", markersize=6, markeredgecolor=\"red\", markerfacecolor=\"green\")"
      ],
      "metadata": {
        "colab": {
          "base_uri": "https://localhost:8080/",
          "height": 278
        },
        "id": "RuZuxrUTAeH4",
        "outputId": "333ec8e3-c4b4-4a02-fb13-811405b2267f"
      },
      "execution_count": null,
      "outputs": [
        {
          "output_type": "execute_result",
          "data": {
            "text/plain": [
              "[<matplotlib.lines.Line2D at 0x7efe135a45b0>]"
            ]
          },
          "metadata": {},
          "execution_count": 30
        },
        {
          "output_type": "display_data",
          "data": {
            "text/plain": [
              "<Figure size 504x252 with 1 Axes>"
            ],
            "image/png": "[encoded data removed]"
          },
          "metadata": {
            "needs_background": "light"
          }
        }
      ]
    },
    {
      "cell_type": "code",
      "source": [
        "plt.plot(distances_10)\n",
        "x = [elbow_index_10]\n",
        "y = [data_10[elbow_index_10][1]]\n",
        "\n",
        "plt.plot(x, y, marker=\"o\", markersize=6, markeredgecolor=\"red\", markerfacecolor=\"green\")"
      ],
      "metadata": {
        "colab": {
          "base_uri": "https://localhost:8080/",
          "height": 278
        },
        "id": "0WTRVYDaAhvB",
        "outputId": "081f621f-a6d6-42dc-e00e-35ec2b3616cc"
      },
      "execution_count": null,
      "outputs": [
        {
          "output_type": "execute_result",
          "data": {
            "text/plain": [
              "[<matplotlib.lines.Line2D at 0x7efe1cec3430>]"
            ]
          },
          "metadata": {},
          "execution_count": 31
        },
        {
          "output_type": "display_data",
          "data": {
            "text/plain": [
              "<Figure size 504x252 with 1 Axes>"
            ],
            "image/png": "[encoded data removed]"
          },
          "metadata": {
            "needs_background": "light"
          }
        }
      ]
    },
    {
      "cell_type": "code",
      "source": [
        "plt.plot(distances_15)\n",
        "x = [elbow_index_15]\n",
        "y = [data_15[elbow_index_15][1]]\n",
        "\n",
        "plt.plot(x, y, marker=\"o\", markersize=6, markeredgecolor=\"red\", markerfacecolor=\"green\")"
      ],
      "metadata": {
        "colab": {
          "base_uri": "https://localhost:8080/",
          "height": 278
        },
        "id": "auWDLMyqAlQ2",
        "outputId": "631d7f16-0bde-4c40-f21c-9f27bb3d7bb3"
      },
      "execution_count": null,
      "outputs": [
        {
          "output_type": "execute_result",
          "data": {
            "text/plain": [
              "[<matplotlib.lines.Line2D at 0x7efe1c20bfa0>]"
            ]
          },
          "metadata": {},
          "execution_count": 32
        },
        {
          "output_type": "display_data",
          "data": {
            "text/plain": [
              "<Figure size 504x252 with 1 Axes>"
            ],
            "image/png": "[encoded data removed]"
          },
          "metadata": {
            "needs_background": "light"
          }
        }
      ]
    },
    {
      "cell_type": "code",
      "source": [
        "# DBSCAN algorithm\n",
        "from sklearn.cluster import DBSCAN\n",
        "\n",
        "def dbscan_cluster(latitudes,longitudes,epsilon,min_samples,**kwargs):    \n",
        "    # convert epsilon from km to radians \n",
        "    kms_per_radian = 6371.0088\n",
        "    epsilon /= kms_per_radian    \n",
        "    # set up the algorithm ?šta uzeti za parametre? -- odgovor dole\n",
        "    dbscan = DBSCAN(\n",
        "        eps = epsilon,\n",
        "        min_samples = min_samples,\n",
        "        algorithm = 'ball_tree',\n",
        "        metric = 'haversine',\n",
        "        **kwargs\n",
        "    )\n",
        "    # fit the algorithm\n",
        "    dbscan.fit(\n",
        "        np.radians(\n",
        "            [x for x in zip(latitudes,longitudes)]   #zip(gdfCluster['lat'], gdfCluster['lon'])\n",
        "        )\n",
        "    )    \n",
        "    # return the cluster labels\n",
        "    return pd.Series(dbscan.labels_)"
      ],
      "metadata": {
        "id": "fANwOH65BGip"
      },
      "execution_count": null,
      "outputs": []
    },
    {
      "cell_type": "markdown",
      "source": [
        "Cluster minPts = 2"
      ],
      "metadata": {
        "id": "Y3Hgtq0JGlts"
      }
    },
    {
      "cell_type": "code",
      "source": [
        "#min point 2\n",
        "klasteri_2=dbscan_cluster(X['lat'], X['lon'], parametar_2, 2)\n",
        "X = X.assign(cluster_2=klasteri_2.values)"
      ],
      "metadata": {
        "id": "IHYaw9msBQLp"
      },
      "execution_count": null,
      "outputs": []
    },
    {
      "cell_type": "code",
      "source": [
        "X['Pickup Centroid Location'].groupby(X['cluster_2']).count()"
      ],
      "metadata": {
        "colab": {
          "base_uri": "https://localhost:8080/"
        },
        "id": "nBV3jXWXBa96",
        "outputId": "6a791523-bf2d-4edd-8cf8-0a7776fe2699"
      },
      "execution_count": null,
      "outputs": [
        {
          "output_type": "execute_result",
          "data": {
            "text/plain": [
              "cluster_2\n",
              "-1      25\n",
              " 0       2\n",
              " 1       2\n",
              " 2       2\n",
              " 3       2\n",
              " 4       4\n",
              " 5       3\n",
              " 6       2\n",
              " 7       4\n",
              " 8      14\n",
              " 9     423\n",
              " 10      2\n",
              " 11      2\n",
              " 12      2\n",
              " 13      4\n",
              " 14      2\n",
              " 15      2\n",
              " 16      3\n",
              " 17      9\n",
              " 18      2\n",
              " 19      6\n",
              " 20      2\n",
              " 21      2\n",
              " 22      2\n",
              " 23      3\n",
              " 24      4\n",
              " 25      2\n",
              " 26      2\n",
              " 27      5\n",
              " 28      3\n",
              " 29      3\n",
              " 30      2\n",
              " 31      2\n",
              " 32      8\n",
              " 33      7\n",
              " 34      2\n",
              " 35      2\n",
              " 36      3\n",
              " 37      3\n",
              " 38      2\n",
              " 39      3\n",
              " 40      2\n",
              " 41      2\n",
              "Name: Pickup Centroid Location, dtype: int64"
            ]
          },
          "metadata": {},
          "execution_count": 26
        }
      ]
    },
    {
      "cell_type": "code",
      "source": [
        "# Map for klaster2\n",
        "# Overlayed community areas\n",
        "klaster2 = folium.Map(location=[41.79259, -87.76962], zoom_start=11)\n",
        "\n",
        "clustersLayer = folium.FeatureGroup(name= '<u><b>clusters</b></u>',show= True)\n",
        "klaster2.add_child(clustersLayer)\n",
        "minus1cluster = folium.FeatureGroup(name= '<u><b>unclustered</b></u>',show= False)\n",
        "klaster2.add_child(minus1cluster)\n",
        "comAreasLayer = folium.GeoJson(\n",
        "    comAreas,\n",
        "    name=\"CommunityAreas\")\n",
        "klaster2.add_child(comAreasLayer)\n",
        "\n",
        "for u, v, c in zip(X['lat'], X['lon'], X['cluster_2']):\n",
        "  if c == 0:\n",
        "    folium.Marker(\n",
        "        location=[u, v],\n",
        "        icon=folium.Icon(color='red', icon='location-dot', prefix='fa'),\n",
        "        popup = \"Cluster 0\").add_to(clustersLayer)\n",
        "  elif c == 1:\n",
        "    folium.Marker(\n",
        "        location=[u, v],\n",
        "        icon=folium.Icon(color='orange', icon='location-dot', prefix='fa'),\n",
        "        popup = \"Cluster 1\").add_to(clustersLayer)\n",
        "  elif c == 2:\n",
        "    folium.Marker(\n",
        "        location=[u, v],\n",
        "        icon=folium.Icon(color='green', icon='location-dot', prefix='fa'),\n",
        "        popup = \"Cluster 2\").add_to(clustersLayer)\n",
        "  elif c == 3:\n",
        "    folium.Marker(\n",
        "        location=[u, v],\n",
        "        icon=folium.Icon(color='purple', icon='location-dot', prefix='fa'),\n",
        "        popup = \"Cluster 3\").add_to(clustersLayer)\n",
        "  elif c == 4:\n",
        "    folium.Marker(\n",
        "        location=[u, v],\n",
        "        icon=folium.Icon(color='cadetblue', icon='location-dot', prefix='fa'),\n",
        "        popup = \"Cluster 4\").add_to(clustersLayer)\n",
        "  elif c == 5:\n",
        "    folium.Marker(\n",
        "        location=[u, v],\n",
        "        icon=folium.Icon(color='pink', icon='location-dot', prefix='fa'),\n",
        "        popup = \"Cluster 5\").add_to(clustersLayer)\n",
        "  elif c == 6:\n",
        "    folium.Marker(\n",
        "        location=[u, v],\n",
        "        icon=folium.Icon(color='blue', icon='location-dot', prefix='fa'),\n",
        "        popup = \"Cluster 6\").add_to(clustersLayer)\n",
        "  elif c == 7:\n",
        "    folium.Marker(\n",
        "        location=[u, v],\n",
        "        icon=folium.Icon(color='gray', icon='location-dot', prefix='fa'),\n",
        "        popup = \"Cluster 7\").add_to(clustersLayer)\n",
        "  elif c == 8:\n",
        "    folium.Marker(\n",
        "        location=[u, v],\n",
        "        icon=folium.Icon(color='darkred', icon='location-dot', prefix='fa'),\n",
        "        popup = \"Cluster 8\").add_to(clustersLayer)\n",
        "  elif c == 9:\n",
        "    folium.Marker(\n",
        "        location=[u, v],\n",
        "        icon=folium.Icon(color='lightred', icon='location-dot', prefix='fa'),\n",
        "        popup = \"Cluster 9\").add_to(clustersLayer)\n",
        "  elif c == 10:\n",
        "    folium.Marker(\n",
        "        location=[u, v],\n",
        "        icon=folium.Icon(color='beige', icon='location-dot', prefix='fa'),\n",
        "        popup = \"Cluster 10\").add_to(clustersLayer)\n",
        "  elif c == 11:\n",
        "    folium.Marker(\n",
        "        location=[u, v],\n",
        "        icon=folium.Icon(color='darkgreen', icon='location-dot', prefix='fa'),\n",
        "        popup = \"Cluster 11\").add_to(clustersLayer)\n",
        "  elif c == 12:\n",
        "    folium.Marker(\n",
        "        location=[u, v],\n",
        "        icon=folium.Icon(color='lightgreen', icon='location-dot', prefix='fa'),\n",
        "        popup = \"Cluster 12\").add_to(clustersLayer)\n",
        "  elif c == 13:\n",
        "    folium.Marker(\n",
        "        location=[u, v],\n",
        "        icon=folium.Icon(color='darkblue', icon='location-dot', prefix='fa'),\n",
        "        popup = \"Cluster 13\").add_to(clustersLayer)\n",
        "  elif c == 14:\n",
        "    folium.Marker(\n",
        "        location=[u, v],\n",
        "        icon=folium.Icon(color='lightblue', icon='location-dot', prefix='fa'),\n",
        "        popup = \"Cluster 14\").add_to(clustersLayer)\n",
        "  elif c == 15:\n",
        "    folium.Marker(\n",
        "        location=[u, v],\n",
        "        icon=folium.Icon(color='darkpurple', icon='location-dot', prefix='fa'),\n",
        "        popup = \"Cluster 15\").add_to(clustersLayer)\n",
        "  elif c == 16:\n",
        "    folium.Marker(\n",
        "        location=[u, v],\n",
        "        icon=folium.Icon(color='lightgray', icon='location-dot', prefix='fa'),\n",
        "        popup = \"Cluster 16\").add_to(clustersLayer)\n",
        "  elif c == 17:\n",
        "    folium.Marker(\n",
        "        location=[u, v],\n",
        "        icon=folium.Icon(color='black', icon='location-dot', prefix='fa'),\n",
        "        popup = \"Cluster 17\").add_to(clustersLayer)\n",
        "  elif c == 18:\n",
        "    folium.Marker(\n",
        "        location=[u, v],\n",
        "        icon=folium.Icon(color='red', icon='circle', icon_color=\"white\", prefix='fa'),\n",
        "        popup = \"Cluster 18\").add_to(clustersLayer)\n",
        "  elif c == 19:\n",
        "    folium.Marker(\n",
        "        location=[u, v],\n",
        "        icon=folium.Icon(color='darkred', icon='circle', icon_color=\"white\", prefix='fa'),\n",
        "        popup = \"Cluster 19\").add_to(clustersLayer)\n",
        "  elif c == 20:\n",
        "    folium.Marker(\n",
        "        location=[u, v],\n",
        "        icon=folium.Icon(color='gray', icon='circle', icon_color=\"white\", prefix='fa'),\n",
        "        popup = \"Cluster 20\").add_to(clustersLayer)\n",
        "  elif c == 21:\n",
        "    folium.Marker(\n",
        "        location=[u, v],\n",
        "        icon=folium.Icon(color='lightred', icon='circle', icon_color=\"white\", prefix='fa'),\n",
        "        popup = \"Cluster 21\").add_to(clustersLayer)\n",
        "  elif c == 22:\n",
        "    folium.Marker(\n",
        "        location=[u, v],\n",
        "        icon=folium.Icon(color='orange', icon='circle', icon_color=\"white\", prefix='fa'),\n",
        "        popup = \"Cluster 22\").add_to(clustersLayer)\n",
        "  elif c == 23:\n",
        "    folium.Marker(\n",
        "        location=[u, v],\n",
        "        icon=folium.Icon(color='beige', icon='circle', icon_color=\"white\", prefix='fa'),\n",
        "        popup = \"Cluster 23\").add_to(clustersLayer)\n",
        "  elif c == 24:\n",
        "    folium.Marker(\n",
        "        location=[u, v],\n",
        "        icon=folium.Icon(color='green', icon='circle', icon_color=\"white\", prefix='fa'),\n",
        "        popup = \"Cluster 24\").add_to(clustersLayer)\n",
        "  elif c == 25:\n",
        "    folium.Marker(\n",
        "        location=[u, v],\n",
        "        icon=folium.Icon(color='lightgreen', icon='circle', icon_color=\"white\", prefix='fa'),\n",
        "        popup = \"Cluster 25\").add_to(clustersLayer)\n",
        "  elif c == 26:\n",
        "    folium.Marker(\n",
        "        location=[u, v],\n",
        "        icon=folium.Icon(color='darkgreen', icon='circle', icon_color=\"white\", prefix='fa'),\n",
        "        popup = \"Cluster 26\").add_to(clustersLayer)\n",
        "  elif c == 27:\n",
        "    folium.Marker(\n",
        "        location=[u, v],\n",
        "        icon=folium.Icon(color='darkblue', icon='circle', icon_color=\"white\", prefix='fa'),\n",
        "        popup = \"Cluster 27\").add_to(clustersLayer)\n",
        "  elif c == 28:\n",
        "    folium.Marker(\n",
        "        location=[u, v],\n",
        "        icon=folium.Icon(color='lightblue', icon='circle', icon_color=\"white\", prefix='fa'),\n",
        "        popup = \"Cluster 28\").add_to(clustersLayer)\n",
        "  elif c == 29:\n",
        "    folium.Marker(\n",
        "        location=[u, v],\n",
        "        icon=folium.Icon(color='purple', icon='circle', icon_color=\"white\", prefix='fa'),\n",
        "        popup = \"Cluster 29\").add_to(clustersLayer)\n",
        "  elif c == 30:\n",
        "    folium.Marker(\n",
        "        location=[u, v],\n",
        "        icon=folium.Icon(color='darkpurple', icon='circle', icon_color=\"white\", prefix='fa'),\n",
        "        popup = \"Cluster 30\").add_to(clustersLayer)\n",
        "  elif c == 31:\n",
        "    folium.Marker(\n",
        "        location=[u, v],\n",
        "        icon=folium.Icon(color='pink', icon='circle', icon_color=\"white\", prefix='fa'),\n",
        "        popup = \"Cluster 31\").add_to(clustersLayer)\n",
        "  elif c == 32:\n",
        "    folium.Marker(\n",
        "        location=[u, v],\n",
        "        icon=folium.Icon(color='cadetblue', icon='circle', icon_color=\"white\", prefix='fa'),\n",
        "        popup = \"Cluster 32\").add_to(clustersLayer)\n",
        "  elif c == 33:\n",
        "    folium.Marker(\n",
        "        location=[u, v],\n",
        "        icon=folium.Icon(color='black', icon='circle', icon_color=\"white\", prefix='fa'),\n",
        "        popup = \"Cluster 33\").add_to(clustersLayer)\n",
        "  elif c == 34:\n",
        "    folium.Marker(\n",
        "        location=[u, v],\n",
        "        icon=folium.Icon(color='lightgray', icon='circle', icon_color=\"white\", prefix='fa'),\n",
        "        popup = \"Cluster 34\").add_to(clustersLayer)\n",
        "  elif c == 35:\n",
        "    folium.Marker(\n",
        "        location=[u, v],\n",
        "        icon=folium.Icon(color='red', icon='circle-o', icon_color=\"white\", prefix='fa'),\n",
        "        popup = \"Cluster 35\").add_to(clustersLayer)\n",
        "  elif c == 36:\n",
        "    folium.Marker(\n",
        "        location=[u, v],\n",
        "        icon=folium.Icon(color='darkred', icon='circle-o', icon_color=\"white\", prefix='fa'),\n",
        "        popup = \"Cluster 36\").add_to(clustersLayer)\n",
        "  elif c == 37:\n",
        "    folium.Marker(\n",
        "        location=[u, v],\n",
        "        icon=folium.Icon(color='gray', icon='circle-o', icon_color=\"white\", prefix='fa'),\n",
        "        popup = \"Cluster 37\").add_to(clustersLayer)\n",
        "  elif c == 38:\n",
        "    folium.Marker(\n",
        "        location=[u, v],\n",
        "        icon=folium.Icon(color='lightred', icon='circle-o', icon_color=\"white\", prefix='fa'),\n",
        "        popup = \"Cluster 38\").add_to(clustersLayer)\n",
        "  elif c == 39:\n",
        "    folium.Marker(\n",
        "        location=[u, v],\n",
        "        icon=folium.Icon(color='orange', icon='circle-o', icon_color=\"white\", prefix='fa'),\n",
        "        popup = \"Cluster 39\").add_to(clustersLayer)\n",
        "  elif c == 40:\n",
        "    folium.Marker(\n",
        "        location=[u, v],\n",
        "        icon=folium.Icon(color='beige', icon='circle-o', icon_color=\"white\", prefix='fa'),\n",
        "        popup = \"Cluster 40\").add_to(clustersLayer)\n",
        "  elif c == 41:\n",
        "    folium.Marker(\n",
        "        location=[u, v],\n",
        "        icon=folium.Icon(color='green', icon='circle-o', icon_color=\"white\", prefix='fa'),\n",
        "        popup = \"Cluster 41\").add_to(clustersLayer)\n",
        "  else:\n",
        "    folium.Marker(\n",
        "        location=[u, v]).add_to(minus1cluster)\n",
        "\n",
        "folium.LayerControl(collapsed=True ,position= 'topright').add_to(klaster2)\n",
        "\n",
        "# Saving the map\n",
        "#klaster2.save('klaster2Map.html')"
      ],
      "metadata": {
        "id": "Zu5vRLTPBjOH"
      },
      "execution_count": null,
      "outputs": []
    },
    {
      "cell_type": "markdown",
      "source": [
        "Cluster minPts = 5"
      ],
      "metadata": {
        "id": "FttUyvlGHTH6"
      }
    },
    {
      "cell_type": "code",
      "source": [
        "#min point 5\n",
        "klasteri_5=dbscan_cluster(X['lat'], X['lon'], parametar_5, 5)\n",
        "X= X.assign(cluster_5=klasteri_5.values)"
      ],
      "metadata": {
        "id": "WlhPKPwPCWo_"
      },
      "execution_count": null,
      "outputs": []
    },
    {
      "cell_type": "code",
      "source": [
        "X['Pickup Centroid Location'].groupby(X['cluster_5']).count()"
      ],
      "metadata": {
        "colab": {
          "base_uri": "https://localhost:8080/"
        },
        "id": "3yGaIGlBCagQ",
        "outputId": "7009d1be-411d-4410-ab53-bdb653ae93d9"
      },
      "execution_count": null,
      "outputs": [
        {
          "output_type": "execute_result",
          "data": {
            "text/plain": [
              "cluster_5\n",
              "-1     21\n",
              " 0      8\n",
              " 1    532\n",
              " 2     14\n",
              " 3      8\n",
              "Name: Pickup Centroid Location, dtype: int64"
            ]
          },
          "metadata": {},
          "execution_count": 37
        }
      ]
    },
    {
      "cell_type": "code",
      "source": [
        "# Map for klaster5\n",
        "# Overlayed community areas\n",
        "klaster5 = folium.Map(location=[41.79259, -87.76962], zoom_start=11)\n",
        "\n",
        "clustersLayer = folium.FeatureGroup(name= '<u><b>clusters</b></u>',show= True)\n",
        "klaster5.add_child(clustersLayer)\n",
        "minus1cluster = folium.FeatureGroup(name= '<u><b>unclustered</b></u>',show= False)\n",
        "klaster5.add_child(minus1cluster)\n",
        "comAreasLayer = folium.GeoJson(\n",
        "    comAreas,\n",
        "    name=\"CommunityAreas\")\n",
        "klaster5.add_child(comAreasLayer)\n",
        "\n",
        "for u, v, c in zip(X['lat'], X['lon'], X['cluster_5']):\n",
        "  if c == 0:\n",
        "    folium.Marker(\n",
        "        location=[u, v],\n",
        "        icon=folium.Icon(color='red', icon='location-dot', prefix='fa'),\n",
        "        popup = \"Cluster 0\").add_to(clustersLayer)\n",
        "  elif c == 1:\n",
        "    folium.Marker(\n",
        "        location=[u, v],\n",
        "        icon=folium.Icon(color='orange', icon='location-dot', prefix='fa'),\n",
        "        popup = \"Cluster 1\").add_to(clustersLayer)\n",
        "  elif c == 2:\n",
        "    folium.Marker(\n",
        "        location=[u, v],\n",
        "        icon=folium.Icon(color='green', icon='location-dot', prefix='fa'),\n",
        "        popup = \"Cluster 2\").add_to(clustersLayer)\n",
        "  elif c == 3:\n",
        "    folium.Marker(\n",
        "        location=[u, v],\n",
        "        icon=folium.Icon(color='purple', icon='location-dot', prefix='fa'),\n",
        "        popup = \"Cluster 3\").add_to(clustersLayer)\n",
        "  else:\n",
        "    folium.Marker(\n",
        "        location=[u, v]).add_to(minus1cluster)\n",
        "\n",
        "folium.LayerControl(collapsed=True ,position= 'topright').add_to(klaster5)\n",
        "\n",
        "# Saving the map\n",
        "#klaster5.save('klaster5Map.html')"
      ],
      "metadata": {
        "id": "ORpcYhzcCfn7"
      },
      "execution_count": null,
      "outputs": []
    },
    {
      "cell_type": "markdown",
      "source": [
        "Cluster minPts = 10"
      ],
      "metadata": {
        "id": "54RAhuF1Hdda"
      }
    },
    {
      "cell_type": "code",
      "source": [
        "#min point 10\n",
        "klasteri_10=dbscan_cluster(X['lat'], X['lon'], parametar_10, 10)\n",
        "X= X.assign(cluster_10=klasteri_10.values)"
      ],
      "metadata": {
        "id": "xeXBIIfWFA4D"
      },
      "execution_count": null,
      "outputs": []
    },
    {
      "cell_type": "code",
      "source": [
        "X['Pickup Centroid Location'].groupby(X['cluster_10']).count()"
      ],
      "metadata": {
        "outputId": "6354eb11-86f3-4b53-dd65-3de4e0341de1",
        "colab": {
          "base_uri": "https://localhost:8080/"
        },
        "id": "sMjThVyZXa0z"
      },
      "execution_count": null,
      "outputs": [
        {
          "output_type": "execute_result",
          "data": {
            "text/plain": [
              "cluster_10\n",
              "-1     19\n",
              " 0    564\n",
              "Name: Pickup Centroid Location, dtype: int64"
            ]
          },
          "metadata": {},
          "execution_count": 40
        }
      ]
    },
    {
      "cell_type": "code",
      "source": [
        "# Map for klaster10\n",
        "# Overlayed community areas\n",
        "klaster10 = folium.Map(location=[41.79259, -87.76962], zoom_start=11)\n",
        "\n",
        "clustersLayer = folium.FeatureGroup(name= '<u><b>clusters</b></u>',show= True)\n",
        "klaster10.add_child(clustersLayer)\n",
        "minus1cluster = folium.FeatureGroup(name= '<u><b>unclustered</b></u>',show= False)\n",
        "klaster10.add_child(minus1cluster)\n",
        "comAreasLayer = folium.GeoJson(\n",
        "    comAreas,\n",
        "    name=\"CommunityAreas\")\n",
        "klaster10.add_child(comAreasLayer)\n",
        "\n",
        "for u, v, c in zip(X['lat'], X['lon'], X['cluster_10']):\n",
        "  if c == 0:\n",
        "    folium.Marker(\n",
        "        location=[u, v],\n",
        "        icon=folium.Icon(color='red', icon='location-dot', prefix='fa'),\n",
        "        popup = \"Cluster 0\").add_to(clustersLayer)  \n",
        "  else:\n",
        "    folium.Marker(\n",
        "        location=[u, v]).add_to(minus1cluster)\n",
        "\n",
        "folium.LayerControl(collapsed=True ,position= 'topright').add_to(klaster10)\n",
        "\n",
        "# Saving the map\n",
        "#klaster10.save('klaster10Map.html')"
      ],
      "metadata": {
        "id": "dqdB7iWNFOcO"
      },
      "execution_count": null,
      "outputs": []
    },
    {
      "cell_type": "code",
      "source": [
        "#min point 15\n",
        "klasteri_15=dbscan_cluster(X['lat'], X['lon'], parametar_15, 15)\n",
        "X= X.assign(cluster_15=klasteri_15.values)"
      ],
      "metadata": {
        "id": "fdY0dL4mFwZi"
      },
      "execution_count": null,
      "outputs": []
    },
    {
      "cell_type": "markdown",
      "source": [
        "Cluster minPts = 15"
      ],
      "metadata": {
        "id": "mPoOiECjHkrP"
      }
    },
    {
      "cell_type": "code",
      "source": [
        "X['Pickup Centroid Location'].groupby(X['cluster_15']).count()"
      ],
      "metadata": {
        "colab": {
          "base_uri": "https://localhost:8080/"
        },
        "id": "UvSLAhxxFzcL",
        "outputId": "3d06bcc6-f634-42c7-a6b0-8bdbd05ffc43"
      },
      "execution_count": null,
      "outputs": [
        {
          "output_type": "execute_result",
          "data": {
            "text/plain": [
              "cluster_15\n",
              "-1     12\n",
              " 0    571\n",
              "Name: Pickup Centroid Location, dtype: int64"
            ]
          },
          "metadata": {},
          "execution_count": 43
        }
      ]
    },
    {
      "cell_type": "code",
      "source": [
        "# Map for klaster15\n",
        "# Overlayed community areas\n",
        "klaster15 = folium.Map(location=[41.79259, -87.76962], zoom_start=11)\n",
        "\n",
        "clustersLayer = folium.FeatureGroup(name= '<u><b>clusters</b></u>',show= True)\n",
        "klaster15.add_child(clustersLayer)\n",
        "minus1cluster = folium.FeatureGroup(name= '<u><b>unclustered</b></u>',show= False)\n",
        "klaster15.add_child(minus1cluster)\n",
        "comAreasLayer = folium.GeoJson(\n",
        "    comAreas,\n",
        "    name=\"CommunityAreas\")\n",
        "klaster15.add_child(comAreasLayer)\n",
        "\n",
        "for u, v, c in zip(X['lat'], X['lon'], X['cluster_15']):\n",
        "  if c == 0:\n",
        "    folium.Marker(\n",
        "        location=[u, v],\n",
        "        icon=folium.Icon(color='green', icon='location-dot', prefix='fa'),\n",
        "        popup = \"Cluster 0\").add_to(clustersLayer)  \n",
        "  else:\n",
        "    folium.Marker(\n",
        "        location=[u, v]).add_to(minus1cluster)\n",
        "\n",
        "folium.LayerControl(collapsed=True ,position= 'topright').add_to(klaster15)\n",
        "\n",
        "# Saving the map\n",
        "#klaster15.save('klaster15Map.html')"
      ],
      "metadata": {
        "id": "rauFwmyeF1sZ"
      },
      "execution_count": null,
      "outputs": []
    },
    {
      "cell_type": "markdown",
      "source": [
        "## Clustering 1.0"
      ],
      "metadata": {
        "id": "Cb5QT8UNAzmO"
      }
    },
    {
      "cell_type": "code",
      "source": [
        "# Data for just one weekend\n",
        "options = [4, 5]\n",
        "gdfTemp = gdf.loc[gdf['Trip Start Timestamp'].dt.weekday.isin(options)]\n",
        "gdfCluster = gdfTemp[(gdfTemp['Trip Start Timestamp'] >= '2022-10-28 21:00:00') & (gdfTemp['Trip Start Timestamp'] <= '2022-10-29 04:00:00')]\n",
        "\n",
        "gdfCluster"
      ],
      "metadata": {
        "colab": {
          "base_uri": "https://localhost:8080/",
          "height": 849
        },
        "id": "_CdQs0Bmqwk0",
        "outputId": "ed870acf-907d-4199-a312-75f2aab531c0"
      },
      "execution_count": null,
      "outputs": [
        {
          "output_type": "execute_result",
          "data": {
            "text/plain": [
              "         Unnamed: 0                                   Trip ID  \\\n",
              "4537635     5283765  1986cc5c706b4a27365e2bf545420b35f0342499   \n",
              "4537636     5283767  6ede9e3834aa0049da44c0e2b7e62b1e0b1cc4ac   \n",
              "4537637     5283768  70702c9e84c942c2f1c725a63f69681b80277549   \n",
              "4537638     5283769  7a485c1594e493c9e8912a89a844506f4280229b   \n",
              "4537639     5283770  95d8a0f647bbaafd363a4e10edf1750e316f6167   \n",
              "...             ...                                       ...   \n",
              "4540612     5287141  da2b0c4a29a90514e6d3c2b075ff1d1654803743   \n",
              "4540613     5287142  d9b4cfc23567fcc5faada095076fcb774d390d01   \n",
              "4540614     5287143  f3f9c927094fd60884cb46faca49f9682c6c8b96   \n",
              "4540615     5287144  f3f695df2864f1511ddfc247f3b86216bc9c0f32   \n",
              "4540616     5287145  f91bddc06654275ca02bdaaabbdf6c38088dbef7   \n",
              "\n",
              "                                                   Taxi ID  \\\n",
              "4537635  1bb875f74db6b3d8bcab27f6784218036ec738c201e533...   \n",
              "4537636  237a0889e04b6ab9609738d8b35485bce00cf600493d4e...   \n",
              "4537637  8f3c7d4cc11fd46561981647499508fd69142984514478...   \n",
              "4537638  ea67cf50724b1bb2aefc695753c9640903e27d2ea46cd8...   \n",
              "4537639  8b8d35663133904892cc1e87911f55ed0bdf9a9bd1093c...   \n",
              "...                                                    ...   \n",
              "4540612  8942c504d38b52d769ac1800e8c7dde070687626dcae14...   \n",
              "4540613  c53face33b74e90c719c30c33f394050ca1e93ca6b11a8...   \n",
              "4540614  10e8a565ac8829bd9caa44f57e9831fd8b4ff374e4d666...   \n",
              "4540615  3ff6ae822a41ebadfdbdecf4bfe5cd766bc1c22f885fff...   \n",
              "4540616  4ddcdbfaa3447ef6507004a4c6005769aa300f06a0194c...   \n",
              "\n",
              "        Trip Start Timestamp  Trip End Timestamp  Pickup Community Area  \\\n",
              "4537635  2022-10-28 21:00:00 2022-10-28 21:30:00                    6.0   \n",
              "4537636  2022-10-28 21:00:00 2022-10-28 21:15:00                    8.0   \n",
              "4537637  2022-10-28 21:00:00 2022-10-28 21:00:00                    8.0   \n",
              "4537638  2022-10-28 21:00:00 2022-10-28 21:30:00                   61.0   \n",
              "4537639  2022-10-28 21:00:00 2022-10-28 21:15:00                    8.0   \n",
              "...                      ...                 ...                    ...   \n",
              "4540612  2022-10-29 04:00:00 2022-10-29 04:15:00                    8.0   \n",
              "4540613  2022-10-29 04:00:00 2022-10-29 04:00:00                    7.0   \n",
              "4540614  2022-10-29 04:00:00 2022-10-29 04:00:00                    5.0   \n",
              "4540615  2022-10-29 04:00:00 2022-10-29 04:15:00                   60.0   \n",
              "4540616  2022-10-29 04:00:00 2022-10-29 05:00:00                    8.0   \n",
              "\n",
              "           Pickup Centroid Location        lon        lat  \n",
              "4537635  POINT (-87.65600 41.94423) -87.655998  41.944227  \n",
              "4537636  POINT (-87.63186 41.89204) -87.631864  41.892042  \n",
              "4537637  POINT (-87.63331 41.89960) -87.633308  41.899602  \n",
              "4537638  POINT (-87.65917 41.80902) -87.659167  41.809018  \n",
              "4537639  POINT (-87.63331 41.89960) -87.633308  41.899602  \n",
              "...                             ...        ...        ...  \n",
              "4540612  POINT (-87.63331 41.89960) -87.633308  41.899602  \n",
              "4540613  POINT (-87.64949 41.92269) -87.649489  41.922686  \n",
              "4540614  POINT (-87.68383 41.94779) -87.683835  41.947792  \n",
              "4540615  POINT (-87.64879 41.83615) -87.648788  41.836150  \n",
              "4540616  POINT (-87.63331 41.89960) -87.633308  41.899602  \n",
              "\n",
              "[2982 rows x 9 columns]"
            ],
            "text/html": [
              "\n",
              "  <div id=\"df-8047d2ef-e3c6-4005-850c-b49f9ad9ad4f\">\n",
              "    <div class=\"colab-df-container\">\n",
              "      <div>\n",
              "<style scoped>\n",
              "    .dataframe tbody tr th:only-of-type {\n",
              "        vertical-align: middle;\n",
              "    }\n",
              "\n",
              "    .dataframe tbody tr th {\n",
              "        vertical-align: top;\n",
              "    }\n",
              "\n",
              "    .dataframe thead th {\n",
              "        text-align: right;\n",
              "    }\n",
              "</style>\n",
              "<table border=\"1\" class=\"dataframe\">\n",
              "  <thead>\n",
              "    <tr style=\"text-align: right;\">\n",
              "      <th></th>\n",
              "      <th>Unnamed: 0</th>\n",
              "      <th>Trip ID</th>\n",
              "      <th>Taxi ID</th>\n",
              "      <th>Trip Start Timestamp</th>\n",
              "      <th>Trip End Timestamp</th>\n",
              "      <th>Pickup Community Area</th>\n",
              "      <th>Pickup Centroid Location</th>\n",
              "      <th>lon</th>\n",
              "      <th>lat</th>\n",
              "    </tr>\n",
              "  </thead>\n",
              "  <tbody>\n",
              "    <tr>\n",
              "      <th>4537635</th>\n",
              "      <td>5283765</td>\n",
              "      <td>1986cc5c706b4a27365e2bf545420b35f0342499</td>\n",
              "      <td>1bb875f74db6b3d8bcab27f6784218036ec738c201e533...</td>\n",
              "      <td>2022-10-28 21:00:00</td>\n",
              "      <td>2022-10-28 21:30:00</td>\n",
              "      <td>6.0</td>\n",
              "      <td>POINT (-87.65600 41.94423)</td>\n",
              "      <td>-87.655998</td>\n",
              "      <td>41.944227</td>\n",
              "    </tr>\n",
              "    <tr>\n",
              "      <th>4537636</th>\n",
              "      <td>5283767</td>\n",
              "      <td>6ede9e3834aa0049da44c0e2b7e62b1e0b1cc4ac</td>\n",
              "      <td>237a0889e04b6ab9609738d8b35485bce00cf600493d4e...</td>\n",
              "      <td>2022-10-28 21:00:00</td>\n",
              "      <td>2022-10-28 21:15:00</td>\n",
              "      <td>8.0</td>\n",
              "      <td>POINT (-87.63186 41.89204)</td>\n",
              "      <td>-87.631864</td>\n",
              "      <td>41.892042</td>\n",
              "    </tr>\n",
              "    <tr>\n",
              "      <th>4537637</th>\n",
              "      <td>5283768</td>\n",
              "      <td>70702c9e84c942c2f1c725a63f69681b80277549</td>\n",
              "      <td>8f3c7d4cc11fd46561981647499508fd69142984514478...</td>\n",
              "      <td>2022-10-28 21:00:00</td>\n",
              "      <td>2022-10-28 21:00:00</td>\n",
              "      <td>8.0</td>\n",
              "      <td>POINT (-87.63331 41.89960)</td>\n",
              "      <td>-87.633308</td>\n",
              "      <td>41.899602</td>\n",
              "    </tr>\n",
              "    <tr>\n",
              "      <th>4537638</th>\n",
              "      <td>5283769</td>\n",
              "      <td>7a485c1594e493c9e8912a89a844506f4280229b</td>\n",
              "      <td>ea67cf50724b1bb2aefc695753c9640903e27d2ea46cd8...</td>\n",
              "      <td>2022-10-28 21:00:00</td>\n",
              "      <td>2022-10-28 21:30:00</td>\n",
              "      <td>61.0</td>\n",
              "      <td>POINT (-87.65917 41.80902)</td>\n",
              "      <td>-87.659167</td>\n",
              "      <td>41.809018</td>\n",
              "    </tr>\n",
              "    <tr>\n",
              "      <th>4537639</th>\n",
              "      <td>5283770</td>\n",
              "      <td>95d8a0f647bbaafd363a4e10edf1750e316f6167</td>\n",
              "      <td>8b8d35663133904892cc1e87911f55ed0bdf9a9bd1093c...</td>\n",
              "      <td>2022-10-28 21:00:00</td>\n",
              "      <td>2022-10-28 21:15:00</td>\n",
              "      <td>8.0</td>\n",
              "      <td>POINT (-87.63331 41.89960)</td>\n",
              "      <td>-87.633308</td>\n",
              "      <td>41.899602</td>\n",
              "    </tr>\n",
              "    <tr>\n",
              "      <th>...</th>\n",
              "      <td>...</td>\n",
              "      <td>...</td>\n",
              "      <td>...</td>\n",
              "      <td>...</td>\n",
              "      <td>...</td>\n",
              "      <td>...</td>\n",
              "      <td>...</td>\n",
              "      <td>...</td>\n",
              "      <td>...</td>\n",
              "    </tr>\n",
              "    <tr>\n",
              "      <th>4540612</th>\n",
              "      <td>5287141</td>\n",
              "      <td>da2b0c4a29a90514e6d3c2b075ff1d1654803743</td>\n",
              "      <td>8942c504d38b52d769ac1800e8c7dde070687626dcae14...</td>\n",
              "      <td>2022-10-29 04:00:00</td>\n",
              "      <td>2022-10-29 04:15:00</td>\n",
              "      <td>8.0</td>\n",
              "      <td>POINT (-87.63331 41.89960)</td>\n",
              "      <td>-87.633308</td>\n",
              "      <td>41.899602</td>\n",
              "    </tr>\n",
              "    <tr>\n",
              "      <th>4540613</th>\n",
              "      <td>5287142</td>\n",
              "      <td>d9b4cfc23567fcc5faada095076fcb774d390d01</td>\n",
              "      <td>c53face33b74e90c719c30c33f394050ca1e93ca6b11a8...</td>\n",
              "      <td>2022-10-29 04:00:00</td>\n",
              "      <td>2022-10-29 04:00:00</td>\n",
              "      <td>7.0</td>\n",
              "      <td>POINT (-87.64949 41.92269)</td>\n",
              "      <td>-87.649489</td>\n",
              "      <td>41.922686</td>\n",
              "    </tr>\n",
              "    <tr>\n",
              "      <th>4540614</th>\n",
              "      <td>5287143</td>\n",
              "      <td>f3f9c927094fd60884cb46faca49f9682c6c8b96</td>\n",
              "      <td>10e8a565ac8829bd9caa44f57e9831fd8b4ff374e4d666...</td>\n",
              "      <td>2022-10-29 04:00:00</td>\n",
              "      <td>2022-10-29 04:00:00</td>\n",
              "      <td>5.0</td>\n",
              "      <td>POINT (-87.68383 41.94779)</td>\n",
              "      <td>-87.683835</td>\n",
              "      <td>41.947792</td>\n",
              "    </tr>\n",
              "    <tr>\n",
              "      <th>4540615</th>\n",
              "      <td>5287144</td>\n",
              "      <td>f3f695df2864f1511ddfc247f3b86216bc9c0f32</td>\n",
              "      <td>3ff6ae822a41ebadfdbdecf4bfe5cd766bc1c22f885fff...</td>\n",
              "      <td>2022-10-29 04:00:00</td>\n",
              "      <td>2022-10-29 04:15:00</td>\n",
              "      <td>60.0</td>\n",
              "      <td>POINT (-87.64879 41.83615)</td>\n",
              "      <td>-87.648788</td>\n",
              "      <td>41.836150</td>\n",
              "    </tr>\n",
              "    <tr>\n",
              "      <th>4540616</th>\n",
              "      <td>5287145</td>\n",
              "      <td>f91bddc06654275ca02bdaaabbdf6c38088dbef7</td>\n",
              "      <td>4ddcdbfaa3447ef6507004a4c6005769aa300f06a0194c...</td>\n",
              "      <td>2022-10-29 04:00:00</td>\n",
              "      <td>2022-10-29 05:00:00</td>\n",
              "      <td>8.0</td>\n",
              "      <td>POINT (-87.63331 41.89960)</td>\n",
              "      <td>-87.633308</td>\n",
              "      <td>41.899602</td>\n",
              "    </tr>\n",
              "  </tbody>\n",
              "</table>\n",
              "<p>2982 rows × 9 columns</p>\n",
              "</div>\n",
              "      <button class=\"colab-df-convert\" onclick=\"convertToInteractive('df-8047d2ef-e3c6-4005-850c-b49f9ad9ad4f')\"\n",
              "              title=\"Convert this dataframe to an interactive table.\"\n",
              "              style=\"display:none;\">\n",
              "        \n",
              "  <svg xmlns=\"http://www.w3.org/2000/svg\" height=\"24px\"viewBox=\"0 0 24 24\"\n",
              "       width=\"24px\">\n",
              "    <path d=\"M0 0h24v24H0V0z\" fill=\"none\"/>\n",
              "    <path d=\"M18.56 5.44l.94 2.06.94-2.06 2.06-.94-2.06-.94-.94-2.06-.94 2.06-2.06.94zm-11 1L8.5 8.5l.94-2.06 2.06-.94-2.06-.94L8.5 2.5l-.94 2.06-2.06.94zm10 10l.94 2.06.94-2.06 2.06-.94-2.06-.94-.94-2.06-.94 2.06-2.06.94z\"/><path d=\"M17.41 7.96l-1.37-1.37c-.4-.4-.92-.59-1.43-.59-.52 0-1.04.2-1.43.59L10.3 9.45l-7.72 7.72c-.78.78-.78 2.05 0 2.83L4 21.41c.39.39.9.59 1.41.59.51 0 1.02-.2 1.41-.59l7.78-7.78 2.81-2.81c.8-.78.8-2.07 0-2.86zM5.41 20L4 18.59l7.72-7.72 1.47 1.35L5.41 20z\"/>\n",
              "  </svg>\n",
              "      </button>\n",
              "      \n",
              "  <style>\n",
              "    .colab-df-container {\n",
              "      display:flex;\n",
              "      flex-wrap:wrap;\n",
              "      gap: 12px;\n",
              "    }\n",
              "\n",
              "    .colab-df-convert {\n",
              "      background-color: #E8F0FE;\n",
              "      border: none;\n",
              "      border-radius: 50%;\n",
              "      cursor: pointer;\n",
              "      display: none;\n",
              "      fill: #1967D2;\n",
              "      height: 32px;\n",
              "      padding: 0 0 0 0;\n",
              "      width: 32px;\n",
              "    }\n",
              "\n",
              "    .colab-df-convert:hover {\n",
              "      background-color: #E2EBFA;\n",
              "      box-shadow: 0px 1px 2px rgba(60, 64, 67, 0.3), 0px 1px 3px 1px rgba(60, 64, 67, 0.15);\n",
              "      fill: #174EA6;\n",
              "    }\n",
              "\n",
              "    [theme=dark] .colab-df-convert {\n",
              "      background-color: #3B4455;\n",
              "      fill: #D2E3FC;\n",
              "    }\n",
              "\n",
              "    [theme=dark] .colab-df-convert:hover {\n",
              "      background-color: #434B5C;\n",
              "      box-shadow: 0px 1px 3px 1px rgba(0, 0, 0, 0.15);\n",
              "      filter: drop-shadow(0px 1px 2px rgba(0, 0, 0, 0.3));\n",
              "      fill: #FFFFFF;\n",
              "    }\n",
              "  </style>\n",
              "\n",
              "      <script>\n",
              "        const buttonEl =\n",
              "          document.querySelector('#df-8047d2ef-e3c6-4005-850c-b49f9ad9ad4f button.colab-df-convert');\n",
              "        buttonEl.style.display =\n",
              "          google.colab.kernel.accessAllowed ? 'block' : 'none';\n",
              "\n",
              "        async function convertToInteractive(key) {\n",
              "          const element = document.querySelector('#df-8047d2ef-e3c6-4005-850c-b49f9ad9ad4f');\n",
              "          const dataTable =\n",
              "            await google.colab.kernel.invokeFunction('convertToInteractive',\n",
              "                                                     [key], {});\n",
              "          if (!dataTable) return;\n",
              "\n",
              "          const docLinkHtml = 'Like what you see? Visit the ' +\n",
              "            '<a target=\"_blank\" href=https://colab.research.google.com/notebooks/data_table.ipynb>data table notebook</a>'\n",
              "            + ' to learn more about interactive tables.';\n",
              "          element.innerHTML = '';\n",
              "          dataTable['output_type'] = 'display_data';\n",
              "          await google.colab.output.renderOutput(dataTable, element);\n",
              "          const docLink = document.createElement('div');\n",
              "          docLink.innerHTML = docLinkHtml;\n",
              "          element.appendChild(docLink);\n",
              "        }\n",
              "      </script>\n",
              "    </div>\n",
              "  </div>\n",
              "  "
            ]
          },
          "metadata": {},
          "execution_count": 16
        }
      ]
    },
    {
      "cell_type": "code",
      "source": [
        "gdfCluster['lon'] = gdfCluster['Pickup Centroid Location'].x\n",
        "gdfCluster['lat'] = gdfCluster['Pickup Centroid Location'].y\n",
        "gdfCluster"
      ],
      "metadata": {
        "id": "r-b_FmI9GZpQ",
        "colab": {
          "base_uri": "https://localhost:8080/",
          "height": 953
        },
        "outputId": "2e727ddb-d9e3-4d4d-dd57-cb73907bd5a1"
      },
      "execution_count": null,
      "outputs": [
        {
          "output_type": "stream",
          "name": "stderr",
          "text": [
            "/usr/local/lib/python3.8/dist-packages/geopandas/geodataframe.py:1443: SettingWithCopyWarning: \n",
            "A value is trying to be set on a copy of a slice from a DataFrame.\n",
            "Try using .loc[row_indexer,col_indexer] = value instead\n",
            "\n",
            "See the caveats in the documentation: https://pandas.pydata.org/pandas-docs/stable/user_guide/indexing.html#returning-a-view-versus-a-copy\n",
            "  super().__setitem__(key, value)\n"
          ]
        },
        {
          "output_type": "execute_result",
          "data": {
            "text/plain": [
              "         Unnamed: 0                                   Trip ID  \\\n",
              "4537635     5283765  1986cc5c706b4a27365e2bf545420b35f0342499   \n",
              "4537636     5283767  6ede9e3834aa0049da44c0e2b7e62b1e0b1cc4ac   \n",
              "4537637     5283768  70702c9e84c942c2f1c725a63f69681b80277549   \n",
              "4537638     5283769  7a485c1594e493c9e8912a89a844506f4280229b   \n",
              "4537639     5283770  95d8a0f647bbaafd363a4e10edf1750e316f6167   \n",
              "...             ...                                       ...   \n",
              "4540612     5287141  da2b0c4a29a90514e6d3c2b075ff1d1654803743   \n",
              "4540613     5287142  d9b4cfc23567fcc5faada095076fcb774d390d01   \n",
              "4540614     5287143  f3f9c927094fd60884cb46faca49f9682c6c8b96   \n",
              "4540615     5287144  f3f695df2864f1511ddfc247f3b86216bc9c0f32   \n",
              "4540616     5287145  f91bddc06654275ca02bdaaabbdf6c38088dbef7   \n",
              "\n",
              "                                                   Taxi ID  \\\n",
              "4537635  1bb875f74db6b3d8bcab27f6784218036ec738c201e533...   \n",
              "4537636  237a0889e04b6ab9609738d8b35485bce00cf600493d4e...   \n",
              "4537637  8f3c7d4cc11fd46561981647499508fd69142984514478...   \n",
              "4537638  ea67cf50724b1bb2aefc695753c9640903e27d2ea46cd8...   \n",
              "4537639  8b8d35663133904892cc1e87911f55ed0bdf9a9bd1093c...   \n",
              "...                                                    ...   \n",
              "4540612  8942c504d38b52d769ac1800e8c7dde070687626dcae14...   \n",
              "4540613  c53face33b74e90c719c30c33f394050ca1e93ca6b11a8...   \n",
              "4540614  10e8a565ac8829bd9caa44f57e9831fd8b4ff374e4d666...   \n",
              "4540615  3ff6ae822a41ebadfdbdecf4bfe5cd766bc1c22f885fff...   \n",
              "4540616  4ddcdbfaa3447ef6507004a4c6005769aa300f06a0194c...   \n",
              "\n",
              "        Trip Start Timestamp  Trip End Timestamp  Pickup Community Area  \\\n",
              "4537635  2022-10-28 21:00:00 2022-10-28 21:30:00                    6.0   \n",
              "4537636  2022-10-28 21:00:00 2022-10-28 21:15:00                    8.0   \n",
              "4537637  2022-10-28 21:00:00 2022-10-28 21:00:00                    8.0   \n",
              "4537638  2022-10-28 21:00:00 2022-10-28 21:30:00                   61.0   \n",
              "4537639  2022-10-28 21:00:00 2022-10-28 21:15:00                    8.0   \n",
              "...                      ...                 ...                    ...   \n",
              "4540612  2022-10-29 04:00:00 2022-10-29 04:15:00                    8.0   \n",
              "4540613  2022-10-29 04:00:00 2022-10-29 04:00:00                    7.0   \n",
              "4540614  2022-10-29 04:00:00 2022-10-29 04:00:00                    5.0   \n",
              "4540615  2022-10-29 04:00:00 2022-10-29 04:15:00                   60.0   \n",
              "4540616  2022-10-29 04:00:00 2022-10-29 05:00:00                    8.0   \n",
              "\n",
              "           Pickup Centroid Location        lon        lat  \n",
              "4537635  POINT (-87.65600 41.94423) -87.655998  41.944227  \n",
              "4537636  POINT (-87.63186 41.89204) -87.631864  41.892042  \n",
              "4537637  POINT (-87.63331 41.89960) -87.633308  41.899602  \n",
              "4537638  POINT (-87.65917 41.80902) -87.659167  41.809018  \n",
              "4537639  POINT (-87.63331 41.89960) -87.633308  41.899602  \n",
              "...                             ...        ...        ...  \n",
              "4540612  POINT (-87.63331 41.89960) -87.633308  41.899602  \n",
              "4540613  POINT (-87.64949 41.92269) -87.649489  41.922686  \n",
              "4540614  POINT (-87.68383 41.94779) -87.683835  41.947792  \n",
              "4540615  POINT (-87.64879 41.83615) -87.648788  41.836150  \n",
              "4540616  POINT (-87.63331 41.89960) -87.633308  41.899602  \n",
              "\n",
              "[2982 rows x 9 columns]"
            ],
            "text/html": [
              "\n",
              "  <div id=\"df-c91f3c18-3391-4099-8e22-6424cf336187\">\n",
              "    <div class=\"colab-df-container\">\n",
              "      <div>\n",
              "<style scoped>\n",
              "    .dataframe tbody tr th:only-of-type {\n",
              "        vertical-align: middle;\n",
              "    }\n",
              "\n",
              "    .dataframe tbody tr th {\n",
              "        vertical-align: top;\n",
              "    }\n",
              "\n",
              "    .dataframe thead th {\n",
              "        text-align: right;\n",
              "    }\n",
              "</style>\n",
              "<table border=\"1\" class=\"dataframe\">\n",
              "  <thead>\n",
              "    <tr style=\"text-align: right;\">\n",
              "      <th></th>\n",
              "      <th>Unnamed: 0</th>\n",
              "      <th>Trip ID</th>\n",
              "      <th>Taxi ID</th>\n",
              "      <th>Trip Start Timestamp</th>\n",
              "      <th>Trip End Timestamp</th>\n",
              "      <th>Pickup Community Area</th>\n",
              "      <th>Pickup Centroid Location</th>\n",
              "      <th>lon</th>\n",
              "      <th>lat</th>\n",
              "    </tr>\n",
              "  </thead>\n",
              "  <tbody>\n",
              "    <tr>\n",
              "      <th>4537635</th>\n",
              "      <td>5283765</td>\n",
              "      <td>1986cc5c706b4a27365e2bf545420b35f0342499</td>\n",
              "      <td>1bb875f74db6b3d8bcab27f6784218036ec738c201e533...</td>\n",
              "      <td>2022-10-28 21:00:00</td>\n",
              "      <td>2022-10-28 21:30:00</td>\n",
              "      <td>6.0</td>\n",
              "      <td>POINT (-87.65600 41.94423)</td>\n",
              "      <td>-87.655998</td>\n",
              "      <td>41.944227</td>\n",
              "    </tr>\n",
              "    <tr>\n",
              "      <th>4537636</th>\n",
              "      <td>5283767</td>\n",
              "      <td>6ede9e3834aa0049da44c0e2b7e62b1e0b1cc4ac</td>\n",
              "      <td>237a0889e04b6ab9609738d8b35485bce00cf600493d4e...</td>\n",
              "      <td>2022-10-28 21:00:00</td>\n",
              "      <td>2022-10-28 21:15:00</td>\n",
              "      <td>8.0</td>\n",
              "      <td>POINT (-87.63186 41.89204)</td>\n",
              "      <td>-87.631864</td>\n",
              "      <td>41.892042</td>\n",
              "    </tr>\n",
              "    <tr>\n",
              "      <th>4537637</th>\n",
              "      <td>5283768</td>\n",
              "      <td>70702c9e84c942c2f1c725a63f69681b80277549</td>\n",
              "      <td>8f3c7d4cc11fd46561981647499508fd69142984514478...</td>\n",
              "      <td>2022-10-28 21:00:00</td>\n",
              "      <td>2022-10-28 21:00:00</td>\n",
              "      <td>8.0</td>\n",
              "      <td>POINT (-87.63331 41.89960)</td>\n",
              "      <td>-87.633308</td>\n",
              "      <td>41.899602</td>\n",
              "    </tr>\n",
              "    <tr>\n",
              "      <th>4537638</th>\n",
              "      <td>5283769</td>\n",
              "      <td>7a485c1594e493c9e8912a89a844506f4280229b</td>\n",
              "      <td>ea67cf50724b1bb2aefc695753c9640903e27d2ea46cd8...</td>\n",
              "      <td>2022-10-28 21:00:00</td>\n",
              "      <td>2022-10-28 21:30:00</td>\n",
              "      <td>61.0</td>\n",
              "      <td>POINT (-87.65917 41.80902)</td>\n",
              "      <td>-87.659167</td>\n",
              "      <td>41.809018</td>\n",
              "    </tr>\n",
              "    <tr>\n",
              "      <th>4537639</th>\n",
              "      <td>5283770</td>\n",
              "      <td>95d8a0f647bbaafd363a4e10edf1750e316f6167</td>\n",
              "      <td>8b8d35663133904892cc1e87911f55ed0bdf9a9bd1093c...</td>\n",
              "      <td>2022-10-28 21:00:00</td>\n",
              "      <td>2022-10-28 21:15:00</td>\n",
              "      <td>8.0</td>\n",
              "      <td>POINT (-87.63331 41.89960)</td>\n",
              "      <td>-87.633308</td>\n",
              "      <td>41.899602</td>\n",
              "    </tr>\n",
              "    <tr>\n",
              "      <th>...</th>\n",
              "      <td>...</td>\n",
              "      <td>...</td>\n",
              "      <td>...</td>\n",
              "      <td>...</td>\n",
              "      <td>...</td>\n",
              "      <td>...</td>\n",
              "      <td>...</td>\n",
              "      <td>...</td>\n",
              "      <td>...</td>\n",
              "    </tr>\n",
              "    <tr>\n",
              "      <th>4540612</th>\n",
              "      <td>5287141</td>\n",
              "      <td>da2b0c4a29a90514e6d3c2b075ff1d1654803743</td>\n",
              "      <td>8942c504d38b52d769ac1800e8c7dde070687626dcae14...</td>\n",
              "      <td>2022-10-29 04:00:00</td>\n",
              "      <td>2022-10-29 04:15:00</td>\n",
              "      <td>8.0</td>\n",
              "      <td>POINT (-87.63331 41.89960)</td>\n",
              "      <td>-87.633308</td>\n",
              "      <td>41.899602</td>\n",
              "    </tr>\n",
              "    <tr>\n",
              "      <th>4540613</th>\n",
              "      <td>5287142</td>\n",
              "      <td>d9b4cfc23567fcc5faada095076fcb774d390d01</td>\n",
              "      <td>c53face33b74e90c719c30c33f394050ca1e93ca6b11a8...</td>\n",
              "      <td>2022-10-29 04:00:00</td>\n",
              "      <td>2022-10-29 04:00:00</td>\n",
              "      <td>7.0</td>\n",
              "      <td>POINT (-87.64949 41.92269)</td>\n",
              "      <td>-87.649489</td>\n",
              "      <td>41.922686</td>\n",
              "    </tr>\n",
              "    <tr>\n",
              "      <th>4540614</th>\n",
              "      <td>5287143</td>\n",
              "      <td>f3f9c927094fd60884cb46faca49f9682c6c8b96</td>\n",
              "      <td>10e8a565ac8829bd9caa44f57e9831fd8b4ff374e4d666...</td>\n",
              "      <td>2022-10-29 04:00:00</td>\n",
              "      <td>2022-10-29 04:00:00</td>\n",
              "      <td>5.0</td>\n",
              "      <td>POINT (-87.68383 41.94779)</td>\n",
              "      <td>-87.683835</td>\n",
              "      <td>41.947792</td>\n",
              "    </tr>\n",
              "    <tr>\n",
              "      <th>4540615</th>\n",
              "      <td>5287144</td>\n",
              "      <td>f3f695df2864f1511ddfc247f3b86216bc9c0f32</td>\n",
              "      <td>3ff6ae822a41ebadfdbdecf4bfe5cd766bc1c22f885fff...</td>\n",
              "      <td>2022-10-29 04:00:00</td>\n",
              "      <td>2022-10-29 04:15:00</td>\n",
              "      <td>60.0</td>\n",
              "      <td>POINT (-87.64879 41.83615)</td>\n",
              "      <td>-87.648788</td>\n",
              "      <td>41.836150</td>\n",
              "    </tr>\n",
              "    <tr>\n",
              "      <th>4540616</th>\n",
              "      <td>5287145</td>\n",
              "      <td>f91bddc06654275ca02bdaaabbdf6c38088dbef7</td>\n",
              "      <td>4ddcdbfaa3447ef6507004a4c6005769aa300f06a0194c...</td>\n",
              "      <td>2022-10-29 04:00:00</td>\n",
              "      <td>2022-10-29 05:00:00</td>\n",
              "      <td>8.0</td>\n",
              "      <td>POINT (-87.63331 41.89960)</td>\n",
              "      <td>-87.633308</td>\n",
              "      <td>41.899602</td>\n",
              "    </tr>\n",
              "  </tbody>\n",
              "</table>\n",
              "<p>2982 rows × 9 columns</p>\n",
              "</div>\n",
              "      <button class=\"colab-df-convert\" onclick=\"convertToInteractive('df-c91f3c18-3391-4099-8e22-6424cf336187')\"\n",
              "              title=\"Convert this dataframe to an interactive table.\"\n",
              "              style=\"display:none;\">\n",
              "        \n",
              "  <svg xmlns=\"http://www.w3.org/2000/svg\" height=\"24px\"viewBox=\"0 0 24 24\"\n",
              "       width=\"24px\">\n",
              "    <path d=\"M0 0h24v24H0V0z\" fill=\"none\"/>\n",
              "    <path d=\"M18.56 5.44l.94 2.06.94-2.06 2.06-.94-2.06-.94-.94-2.06-.94 2.06-2.06.94zm-11 1L8.5 8.5l.94-2.06 2.06-.94-2.06-.94L8.5 2.5l-.94 2.06-2.06.94zm10 10l.94 2.06.94-2.06 2.06-.94-2.06-.94-.94-2.06-.94 2.06-2.06.94z\"/><path d=\"M17.41 7.96l-1.37-1.37c-.4-.4-.92-.59-1.43-.59-.52 0-1.04.2-1.43.59L10.3 9.45l-7.72 7.72c-.78.78-.78 2.05 0 2.83L4 21.41c.39.39.9.59 1.41.59.51 0 1.02-.2 1.41-.59l7.78-7.78 2.81-2.81c.8-.78.8-2.07 0-2.86zM5.41 20L4 18.59l7.72-7.72 1.47 1.35L5.41 20z\"/>\n",
              "  </svg>\n",
              "      </button>\n",
              "      \n",
              "  <style>\n",
              "    .colab-df-container {\n",
              "      display:flex;\n",
              "      flex-wrap:wrap;\n",
              "      gap: 12px;\n",
              "    }\n",
              "\n",
              "    .colab-df-convert {\n",
              "      background-color: #E8F0FE;\n",
              "      border: none;\n",
              "      border-radius: 50%;\n",
              "      cursor: pointer;\n",
              "      display: none;\n",
              "      fill: #1967D2;\n",
              "      height: 32px;\n",
              "      padding: 0 0 0 0;\n",
              "      width: 32px;\n",
              "    }\n",
              "\n",
              "    .colab-df-convert:hover {\n",
              "      background-color: #E2EBFA;\n",
              "      box-shadow: 0px 1px 2px rgba(60, 64, 67, 0.3), 0px 1px 3px 1px rgba(60, 64, 67, 0.15);\n",
              "      fill: #174EA6;\n",
              "    }\n",
              "\n",
              "    [theme=dark] .colab-df-convert {\n",
              "      background-color: #3B4455;\n",
              "      fill: #D2E3FC;\n",
              "    }\n",
              "\n",
              "    [theme=dark] .colab-df-convert:hover {\n",
              "      background-color: #434B5C;\n",
              "      box-shadow: 0px 1px 3px 1px rgba(0, 0, 0, 0.15);\n",
              "      filter: drop-shadow(0px 1px 2px rgba(0, 0, 0, 0.3));\n",
              "      fill: #FFFFFF;\n",
              "    }\n",
              "  </style>\n",
              "\n",
              "      <script>\n",
              "        const buttonEl =\n",
              "          document.querySelector('#df-c91f3c18-3391-4099-8e22-6424cf336187 button.colab-df-convert');\n",
              "        buttonEl.style.display =\n",
              "          google.colab.kernel.accessAllowed ? 'block' : 'none';\n",
              "\n",
              "        async function convertToInteractive(key) {\n",
              "          const element = document.querySelector('#df-c91f3c18-3391-4099-8e22-6424cf336187');\n",
              "          const dataTable =\n",
              "            await google.colab.kernel.invokeFunction('convertToInteractive',\n",
              "                                                     [key], {});\n",
              "          if (!dataTable) return;\n",
              "\n",
              "          const docLinkHtml = 'Like what you see? Visit the ' +\n",
              "            '<a target=\"_blank\" href=https://colab.research.google.com/notebooks/data_table.ipynb>data table notebook</a>'\n",
              "            + ' to learn more about interactive tables.';\n",
              "          element.innerHTML = '';\n",
              "          dataTable['output_type'] = 'display_data';\n",
              "          await google.colab.output.renderOutput(dataTable, element);\n",
              "          const docLink = document.createElement('div');\n",
              "          docLink.innerHTML = docLinkHtml;\n",
              "          element.appendChild(docLink);\n",
              "        }\n",
              "      </script>\n",
              "    </div>\n",
              "  </div>\n",
              "  "
            ]
          },
          "metadata": {},
          "execution_count": 17
        }
      ]
    },
    {
      "cell_type": "code",
      "source": [
        "gdfCluster= gdfCluster.groupby(['lon', 'lat']).count().reset_index() \n",
        "gdfCluster"
      ],
      "metadata": {
        "colab": {
          "base_uri": "https://localhost:8080/",
          "height": 424
        },
        "id": "7wGkUFKwikz4",
        "outputId": "baab9296-efe5-44fd-cd7c-bcd32165baaa"
      },
      "execution_count": null,
      "outputs": [
        {
          "output_type": "execute_result",
          "data": {
            "text/plain": [
              "          lon        lat  Unnamed: 0  Trip ID  Taxi ID  Trip Start Timestamp  \\\n",
              "0  -87.913625  41.980264         193      193      193                   193   \n",
              "1  -87.903040  41.979071         107      107      107                   107   \n",
              "2  -87.804532  41.985015           9        9        9                     9   \n",
              "3  -87.771167  41.978830           4        4        4                     4   \n",
              "4  -87.769615  41.792592          70       70       70                    70   \n",
              "..        ...        ...         ...      ...      ...                   ...   \n",
              "95 -87.572782  41.761578           4        4        4                     4   \n",
              "96 -87.572717  41.729676           1        1        1                     1   \n",
              "97 -87.570058  41.690633           4        4        4                     4   \n",
              "98 -87.551428  41.741243           2        2        2                     2   \n",
              "99 -87.534903  41.707311           4        4        4                     4   \n",
              "\n",
              "    Trip End Timestamp  Pickup Community Area  Pickup Centroid Location  \n",
              "0                  193                    193                       193  \n",
              "1                  107                    107                       107  \n",
              "2                    9                      9                         9  \n",
              "3                    4                      4                         4  \n",
              "4                   70                     70                        70  \n",
              "..                 ...                    ...                       ...  \n",
              "95                   4                      4                         4  \n",
              "96                   1                      1                         1  \n",
              "97                   4                      4                         4  \n",
              "98                   2                      2                         2  \n",
              "99                   4                      4                         4  \n",
              "\n",
              "[100 rows x 9 columns]"
            ],
            "text/html": [
              "\n",
              "  <div id=\"df-e1504068-c610-4c6f-8791-7ff6e5cb1b11\">\n",
              "    <div class=\"colab-df-container\">\n",
              "      <div>\n",
              "<style scoped>\n",
              "    .dataframe tbody tr th:only-of-type {\n",
              "        vertical-align: middle;\n",
              "    }\n",
              "\n",
              "    .dataframe tbody tr th {\n",
              "        vertical-align: top;\n",
              "    }\n",
              "\n",
              "    .dataframe thead th {\n",
              "        text-align: right;\n",
              "    }\n",
              "</style>\n",
              "<table border=\"1\" class=\"dataframe\">\n",
              "  <thead>\n",
              "    <tr style=\"text-align: right;\">\n",
              "      <th></th>\n",
              "      <th>lon</th>\n",
              "      <th>lat</th>\n",
              "      <th>Unnamed: 0</th>\n",
              "      <th>Trip ID</th>\n",
              "      <th>Taxi ID</th>\n",
              "      <th>Trip Start Timestamp</th>\n",
              "      <th>Trip End Timestamp</th>\n",
              "      <th>Pickup Community Area</th>\n",
              "      <th>Pickup Centroid Location</th>\n",
              "    </tr>\n",
              "  </thead>\n",
              "  <tbody>\n",
              "    <tr>\n",
              "      <th>0</th>\n",
              "      <td>-87.913625</td>\n",
              "      <td>41.980264</td>\n",
              "      <td>193</td>\n",
              "      <td>193</td>\n",
              "      <td>193</td>\n",
              "      <td>193</td>\n",
              "      <td>193</td>\n",
              "      <td>193</td>\n",
              "      <td>193</td>\n",
              "    </tr>\n",
              "    <tr>\n",
              "      <th>1</th>\n",
              "      <td>-87.903040</td>\n",
              "      <td>41.979071</td>\n",
              "      <td>107</td>\n",
              "      <td>107</td>\n",
              "      <td>107</td>\n",
              "      <td>107</td>\n",
              "      <td>107</td>\n",
              "      <td>107</td>\n",
              "      <td>107</td>\n",
              "    </tr>\n",
              "    <tr>\n",
              "      <th>2</th>\n",
              "      <td>-87.804532</td>\n",
              "      <td>41.985015</td>\n",
              "      <td>9</td>\n",
              "      <td>9</td>\n",
              "      <td>9</td>\n",
              "      <td>9</td>\n",
              "      <td>9</td>\n",
              "      <td>9</td>\n",
              "      <td>9</td>\n",
              "    </tr>\n",
              "    <tr>\n",
              "      <th>3</th>\n",
              "      <td>-87.771167</td>\n",
              "      <td>41.978830</td>\n",
              "      <td>4</td>\n",
              "      <td>4</td>\n",
              "      <td>4</td>\n",
              "      <td>4</td>\n",
              "      <td>4</td>\n",
              "      <td>4</td>\n",
              "      <td>4</td>\n",
              "    </tr>\n",
              "    <tr>\n",
              "      <th>4</th>\n",
              "      <td>-87.769615</td>\n",
              "      <td>41.792592</td>\n",
              "      <td>70</td>\n",
              "      <td>70</td>\n",
              "      <td>70</td>\n",
              "      <td>70</td>\n",
              "      <td>70</td>\n",
              "      <td>70</td>\n",
              "      <td>70</td>\n",
              "    </tr>\n",
              "    <tr>\n",
              "      <th>...</th>\n",
              "      <td>...</td>\n",
              "      <td>...</td>\n",
              "      <td>...</td>\n",
              "      <td>...</td>\n",
              "      <td>...</td>\n",
              "      <td>...</td>\n",
              "      <td>...</td>\n",
              "      <td>...</td>\n",
              "      <td>...</td>\n",
              "    </tr>\n",
              "    <tr>\n",
              "      <th>95</th>\n",
              "      <td>-87.572782</td>\n",
              "      <td>41.761578</td>\n",
              "      <td>4</td>\n",
              "      <td>4</td>\n",
              "      <td>4</td>\n",
              "      <td>4</td>\n",
              "      <td>4</td>\n",
              "      <td>4</td>\n",
              "      <td>4</td>\n",
              "    </tr>\n",
              "    <tr>\n",
              "      <th>96</th>\n",
              "      <td>-87.572717</td>\n",
              "      <td>41.729676</td>\n",
              "      <td>1</td>\n",
              "      <td>1</td>\n",
              "      <td>1</td>\n",
              "      <td>1</td>\n",
              "      <td>1</td>\n",
              "      <td>1</td>\n",
              "      <td>1</td>\n",
              "    </tr>\n",
              "    <tr>\n",
              "      <th>97</th>\n",
              "      <td>-87.570058</td>\n",
              "      <td>41.690633</td>\n",
              "      <td>4</td>\n",
              "      <td>4</td>\n",
              "      <td>4</td>\n",
              "      <td>4</td>\n",
              "      <td>4</td>\n",
              "      <td>4</td>\n",
              "      <td>4</td>\n",
              "    </tr>\n",
              "    <tr>\n",
              "      <th>98</th>\n",
              "      <td>-87.551428</td>\n",
              "      <td>41.741243</td>\n",
              "      <td>2</td>\n",
              "      <td>2</td>\n",
              "      <td>2</td>\n",
              "      <td>2</td>\n",
              "      <td>2</td>\n",
              "      <td>2</td>\n",
              "      <td>2</td>\n",
              "    </tr>\n",
              "    <tr>\n",
              "      <th>99</th>\n",
              "      <td>-87.534903</td>\n",
              "      <td>41.707311</td>\n",
              "      <td>4</td>\n",
              "      <td>4</td>\n",
              "      <td>4</td>\n",
              "      <td>4</td>\n",
              "      <td>4</td>\n",
              "      <td>4</td>\n",
              "      <td>4</td>\n",
              "    </tr>\n",
              "  </tbody>\n",
              "</table>\n",
              "<p>100 rows × 9 columns</p>\n",
              "</div>\n",
              "      <button class=\"colab-df-convert\" onclick=\"convertToInteractive('df-e1504068-c610-4c6f-8791-7ff6e5cb1b11')\"\n",
              "              title=\"Convert this dataframe to an interactive table.\"\n",
              "              style=\"display:none;\">\n",
              "        \n",
              "  <svg xmlns=\"http://www.w3.org/2000/svg\" height=\"24px\"viewBox=\"0 0 24 24\"\n",
              "       width=\"24px\">\n",
              "    <path d=\"M0 0h24v24H0V0z\" fill=\"none\"/>\n",
              "    <path d=\"M18.56 5.44l.94 2.06.94-2.06 2.06-.94-2.06-.94-.94-2.06-.94 2.06-2.06.94zm-11 1L8.5 8.5l.94-2.06 2.06-.94-2.06-.94L8.5 2.5l-.94 2.06-2.06.94zm10 10l.94 2.06.94-2.06 2.06-.94-2.06-.94-.94-2.06-.94 2.06-2.06.94z\"/><path d=\"M17.41 7.96l-1.37-1.37c-.4-.4-.92-.59-1.43-.59-.52 0-1.04.2-1.43.59L10.3 9.45l-7.72 7.72c-.78.78-.78 2.05 0 2.83L4 21.41c.39.39.9.59 1.41.59.51 0 1.02-.2 1.41-.59l7.78-7.78 2.81-2.81c.8-.78.8-2.07 0-2.86zM5.41 20L4 18.59l7.72-7.72 1.47 1.35L5.41 20z\"/>\n",
              "  </svg>\n",
              "      </button>\n",
              "      \n",
              "  <style>\n",
              "    .colab-df-container {\n",
              "      display:flex;\n",
              "      flex-wrap:wrap;\n",
              "      gap: 12px;\n",
              "    }\n",
              "\n",
              "    .colab-df-convert {\n",
              "      background-color: #E8F0FE;\n",
              "      border: none;\n",
              "      border-radius: 50%;\n",
              "      cursor: pointer;\n",
              "      display: none;\n",
              "      fill: #1967D2;\n",
              "      height: 32px;\n",
              "      padding: 0 0 0 0;\n",
              "      width: 32px;\n",
              "    }\n",
              "\n",
              "    .colab-df-convert:hover {\n",
              "      background-color: #E2EBFA;\n",
              "      box-shadow: 0px 1px 2px rgba(60, 64, 67, 0.3), 0px 1px 3px 1px rgba(60, 64, 67, 0.15);\n",
              "      fill: #174EA6;\n",
              "    }\n",
              "\n",
              "    [theme=dark] .colab-df-convert {\n",
              "      background-color: #3B4455;\n",
              "      fill: #D2E3FC;\n",
              "    }\n",
              "\n",
              "    [theme=dark] .colab-df-convert:hover {\n",
              "      background-color: #434B5C;\n",
              "      box-shadow: 0px 1px 3px 1px rgba(0, 0, 0, 0.15);\n",
              "      filter: drop-shadow(0px 1px 2px rgba(0, 0, 0, 0.3));\n",
              "      fill: #FFFFFF;\n",
              "    }\n",
              "  </style>\n",
              "\n",
              "      <script>\n",
              "        const buttonEl =\n",
              "          document.querySelector('#df-e1504068-c610-4c6f-8791-7ff6e5cb1b11 button.colab-df-convert');\n",
              "        buttonEl.style.display =\n",
              "          google.colab.kernel.accessAllowed ? 'block' : 'none';\n",
              "\n",
              "        async function convertToInteractive(key) {\n",
              "          const element = document.querySelector('#df-e1504068-c610-4c6f-8791-7ff6e5cb1b11');\n",
              "          const dataTable =\n",
              "            await google.colab.kernel.invokeFunction('convertToInteractive',\n",
              "                                                     [key], {});\n",
              "          if (!dataTable) return;\n",
              "\n",
              "          const docLinkHtml = 'Like what you see? Visit the ' +\n",
              "            '<a target=\"_blank\" href=https://colab.research.google.com/notebooks/data_table.ipynb>data table notebook</a>'\n",
              "            + ' to learn more about interactive tables.';\n",
              "          element.innerHTML = '';\n",
              "          dataTable['output_type'] = 'display_data';\n",
              "          await google.colab.output.renderOutput(dataTable, element);\n",
              "          const docLink = document.createElement('div');\n",
              "          docLink.innerHTML = docLinkHtml;\n",
              "          element.appendChild(docLink);\n",
              "        }\n",
              "      </script>\n",
              "    </div>\n",
              "  </div>\n",
              "  "
            ]
          },
          "metadata": {},
          "execution_count": 18
        }
      ]
    },
    {
      "cell_type": "code",
      "source": [
        "# Creates new columns converting coordinate degrees to radians.\n",
        "for column in gdfCluster[[\"lat\", \"lon\"]]:\n",
        "    rad = np.deg2rad(gdfCluster[column].values)\n",
        "    gdfCluster[f'{column}_rad'] = rad"
      ],
      "metadata": {
        "id": "pKt4GZC5fLC3"
      },
      "execution_count": null,
      "outputs": []
    },
    {
      "cell_type": "code",
      "source": [
        "tree = BallTree(gdfCluster[['lat_rad','lon_rad']], metric='haversine')\n",
        "distances, indices = tree.query(gdfCluster[[\"lat_rad\", \"lon_rad\"]].values, k =20)\n",
        "distances=distances*6371.0  #to km\n",
        "#distances[0]"
      ],
      "metadata": {
        "id": "Z6Avgxsmfz7K"
      },
      "execution_count": null,
      "outputs": []
    },
    {
      "cell_type": "code",
      "source": [
        "distances = np.sort(distances, axis=0)\n",
        "\n",
        "distances_2 = distances[:,1]"
      ],
      "metadata": {
        "id": "tWaAHcTFgG2i"
      },
      "execution_count": null,
      "outputs": []
    },
    {
      "cell_type": "code",
      "source": [
        "data_2 = np.vstack(( [i for i in range(len(distances))],distances_2))\n",
        "data_2=data_2.T"
      ],
      "metadata": {
        "id": "DTJtVb1vgSl1"
      },
      "execution_count": null,
      "outputs": []
    },
    {
      "cell_type": "code",
      "source": [
        "rotor = Rotor()\n",
        "rotor.fit_rotate(data_2)\n",
        "elbow_index_2 = rotor.get_elbow_index()"
      ],
      "metadata": {
        "id": "o7o6Evwrgfrj"
      },
      "execution_count": null,
      "outputs": []
    },
    {
      "cell_type": "code",
      "source": [
        "plt.plot(distances_2)\n",
        "x = [elbow_index_2]\n",
        "y = [data_2[elbow_index_2][1]]\n",
        "\n",
        "plt.plot(x, y, marker=\"o\", markersize=6, markeredgecolor=\"red\", markerfacecolor=\"green\")"
      ],
      "metadata": {
        "colab": {
          "base_uri": "https://localhost:8080/",
          "height": 282
        },
        "outputId": "439a72b0-14ea-437d-dcca-c2a21c2282e3",
        "id": "L6jyUeb-jBZa"
      },
      "execution_count": null,
      "outputs": [
        {
          "output_type": "execute_result",
          "data": {
            "text/plain": [
              "[<matplotlib.lines.Line2D at 0x7f44750cd730>]"
            ]
          },
          "metadata": {},
          "execution_count": 24
        },
        {
          "output_type": "display_data",
          "data": {
            "text/plain": [
              "<Figure size 432x288 with 1 Axes>"
            ],
            "image/png": "[encoded data removed]"
          },
          "metadata": {
            "needs_background": "light"
          }
        }
      ]
    },
    {
      "cell_type": "code",
      "source": [
        "parametar_2=data_2[elbow_index_2][1] #to km, use as parameter\n",
        "parametar_2"
      ],
      "metadata": {
        "id": "YdG8JUDng6ZJ",
        "colab": {
          "base_uri": "https://localhost:8080/"
        },
        "outputId": "7cb10ef0-7b45-4b92-b0b2-a79db66d4a76"
      },
      "execution_count": null,
      "outputs": [
        {
          "output_type": "execute_result",
          "data": {
            "text/plain": [
              "0.7098225266873088"
            ]
          },
          "metadata": {},
          "execution_count": 25
        }
      ]
    },
    {
      "cell_type": "code",
      "source": [
        "# DBSCAN alg\n",
        "from sklearn.cluster import DBSCAN\n",
        "\n",
        "def dbscan_cluster(latitudes,longitudes,epsilon,min_samples,**kwargs):    \n",
        "    # convert epsilon from km to radians \n",
        "    kms_per_radian = 6371.0088\n",
        "    epsilon /= kms_per_radian    \n",
        "    # set up the algorithm ?šta uzeti za parametre? -- odgovor dole\n",
        "    dbscan = DBSCAN(\n",
        "        eps = epsilon,\n",
        "        min_samples = min_samples,\n",
        "        algorithm = 'ball_tree',\n",
        "        metric = 'haversine',\n",
        "        **kwargs\n",
        "    )\n",
        "    # fit the algorithm\n",
        "    dbscan.fit(\n",
        "        np.radians(\n",
        "            [x for x in zip(latitudes,longitudes)]   #zip(gdfCluster['lat'], gdfCluster['lon'])\n",
        "        )\n",
        "    )    \n",
        "    # return the cluster labels\n",
        "    return pd.Series(dbscan.labels_)"
      ],
      "metadata": {
        "id": "udObiUmVkb0I"
      },
      "execution_count": 4,
      "outputs": []
    },
    {
      "cell_type": "code",
      "source": [
        "# Clustering with \"big\" gdf\n",
        "klasteri=dbscan_cluster(gdfCluster['lat'], gdfCluster['lon'], 2.5, 2)\n",
        "gdfCluster= gdfCluster.assign(cluster=klasteri.values)"
      ],
      "metadata": {
        "id": "86_ccjfxke5P"
      },
      "execution_count": null,
      "outputs": []
    },
    {
      "cell_type": "code",
      "source": [
        "gdfCluster['Pickup Centroid Location'].groupby(gdfCluster['cluster']).count()"
      ],
      "metadata": {
        "id": "LRQeUqwrki8_",
        "colab": {
          "base_uri": "https://localhost:8080/"
        },
        "outputId": "e5b06ed0-c2ad-42a2-d292-982dafd87622"
      },
      "execution_count": null,
      "outputs": [
        {
          "output_type": "execute_result",
          "data": {
            "text/plain": [
              "cluster\n",
              "-1    15\n",
              " 0     2\n",
              " 1     2\n",
              " 2     6\n",
              " 3    62\n",
              " 4     3\n",
              " 5     2\n",
              " 6     3\n",
              " 7     5\n",
              "Name: Pickup Centroid Location, dtype: int64"
            ]
          },
          "metadata": {},
          "execution_count": 32
        }
      ]
    },
    {
      "cell_type": "code",
      "source": [
        "# Map (for 2.5)\n",
        "# Overlayed community areas\n",
        "weekend2 = folium.Map(location=[41.79259, -87.76962], zoom_start=11)\n",
        "\n",
        "clustersLayer = folium.FeatureGroup(name= '<u><b>clusters</b></u>',show= True)\n",
        "weekend2.add_child(clustersLayer)\n",
        "minus1cluster = folium.FeatureGroup(name= '<u><b>unclustered</b></u>',show= False)\n",
        "weekend2.add_child(minus1cluster)\n",
        "comAreasLayer = folium.GeoJson(\n",
        "    comAreas,\n",
        "    name=\"CommunityAreas\")\n",
        "weekend2.add_child(comAreasLayer)\n",
        "\n",
        "for u, v, c in zip(gdfCluster['lat'], gdfCluster['lon'], gdfCluster['cluster']):\n",
        "  if c == 0:\n",
        "    folium.Marker(\n",
        "        location=[u, v],\n",
        "        icon=folium.Icon(color='red', icon='location-dot', prefix='fa'),\n",
        "        popup = \"Cluster 0\").add_to(clustersLayer)\n",
        "  elif c == 1:\n",
        "    folium.Marker(\n",
        "        location=[u, v],\n",
        "        icon=folium.Icon(color='orange', icon='location-dot', prefix='fa'),\n",
        "        popup = \"Cluster 1\").add_to(clustersLayer)\n",
        "  elif c == 2:\n",
        "    folium.Marker(\n",
        "        location=[u, v],\n",
        "        icon=folium.Icon(color='green', icon='location-dot', prefix='fa'),\n",
        "        popup = \"Cluster 2\").add_to(clustersLayer)\n",
        "  elif c == 3:\n",
        "    folium.Marker(\n",
        "        location=[u, v],\n",
        "        icon=folium.Icon(color='purple', icon='location-dot', prefix='fa'),\n",
        "        popup = \"Cluster 3\").add_to(clustersLayer)\n",
        "  elif c == 4:\n",
        "    folium.Marker(\n",
        "        location=[u, v],\n",
        "        icon=folium.Icon(color='cadetblue', icon='location-dot', prefix='fa'),\n",
        "        popup = \"Cluster 4\").add_to(clustersLayer)\n",
        "  elif c == 5:\n",
        "    folium.Marker(\n",
        "        location=[u, v],\n",
        "        icon=folium.Icon(color='pink', icon='location-dot', prefix='fa'),\n",
        "        popup = \"Cluster 5\").add_to(clustersLayer)\n",
        "  elif c == 6:\n",
        "    folium.Marker(\n",
        "        location=[u, v],\n",
        "        icon=folium.Icon(color='darkred', icon='location-dot', prefix='fa'),\n",
        "        popup = \"Cluster 6\").add_to(clustersLayer)\n",
        "  elif c == 7:\n",
        "    folium.Marker(\n",
        "        location=[u, v],\n",
        "        icon=folium.Icon(color='black', icon='location-dot', prefix='fa'),\n",
        "        popup = \"Cluster 7\").add_to(clustersLayer)\n",
        "  else:\n",
        "    folium.Marker(\n",
        "        location=[u, v]).add_to(minus1cluster)\n",
        "\n",
        "folium.LayerControl(collapsed=True ,position= 'topright').add_to(weekend2)\n",
        "\n",
        "# Saving the map\n",
        "#weekend2.save('oneWeekend2ipo.html')"
      ],
      "metadata": {
        "id": "V_oWN3VxnRz0"
      },
      "execution_count": null,
      "outputs": []
    },
    {
      "cell_type": "code",
      "source": [
        "#Other cluster map\n",
        "clusterMap = folium.Map(location=[41.79259, -87.76962], zoom_start=9)\n",
        "mCluster = MarkerCluster(name=\"Cluster\").add_to(clusterMap)\n",
        "for u, v in zip(gdfCluster['lat'], gdfCluster['lon']):\n",
        "    folium.Marker(location=[u, v]).add_to(mCluster)\n",
        "\n",
        "clusterMap\n",
        "\n",
        "# Saving the map\n",
        "#clusterMap.save('clusterMapOneWeekend.html')"
      ],
      "metadata": {
        "colab": {
          "base_uri": "https://localhost:8080/",
          "height": 53
        },
        "id": "II1Xab2uwKfK",
        "outputId": "dc680a0a-537d-41c0-b1d7-d7cde916a498"
      },
      "execution_count": null,
      "outputs": [
        {
          "output_type": "execute_result",
          "data": {
            "text/plain": [
              "'\\nclusterMap = folium.Map(location=[41.79259, -87.76962], zoom_start=9)\\nmCluster = MarkerCluster(name=\"Cluster\").add_to(clusterMap)\\nfor u, v in zip(gdfCluster[\\'lat\\'], gdfCluster[\\'lon\\']):\\n    folium.Marker(location=[u, v]).add_to(mCluster)\\n\\nclusterMap\\n'"
            ],
            "application/vnd.google.colaboratory.intrinsic+json": {
              "type": "string"
            }
          },
          "metadata": {},
          "execution_count": 20
        }
      ]
    },
    {
      "cell_type": "code",
      "source": [
        "# Filtering duplicates\n",
        "#filtered = gdfCluster.drop_duplicates(subset=['Pickup Centroid Location'])"
      ],
      "metadata": {
        "id": "YISh6TAo2Ksm"
      },
      "execution_count": null,
      "outputs": []
    },
    {
      "cell_type": "code",
      "source": [
        "# Cluster map with markers instead of circles.. \n",
        "# Overlayed community areas\n",
        "clusterMap3 = folium.Map(location=[41.79259, -87.76962], zoom_start=11)\n",
        "\n",
        "clustersLayer = folium.FeatureGroup(name= '<u><b>clusters</b></u>',show= True)\n",
        "clusterMap3.add_child(clustersLayer)\n",
        "minus1cluster = folium.FeatureGroup(name= '<u><b>unclustered</b></u>',show= False)\n",
        "clusterMap3.add_child(minus1cluster)\n",
        "comAreasLayer = folium.GeoJson(\n",
        "    comAreas,\n",
        "    name=\"CommunityAreas\")\n",
        "clusterMap3.add_child(comAreasLayer)\n",
        "\n",
        "for u, v, c in zip(gdfCluster['lat'], gdfCluster['lon'], gdfCluster['cluster']):\n",
        "  if c == 0:\n",
        "    folium.Marker(\n",
        "        location=[u, v],\n",
        "        icon=folium.Icon(color='red', icon='location-dot', prefix='fa'),\n",
        "        popup = \"Cluster 0\").add_to(clustersLayer)\n",
        "  elif c == 1:\n",
        "    folium.Marker(\n",
        "        location=[u, v],\n",
        "        icon=folium.Icon(color='orange', icon='location-dot', prefix='fa'),\n",
        "        popup = \"Cluster 1\").add_to(clustersLayer)\n",
        "  elif c == 2:\n",
        "    folium.Marker(\n",
        "        location=[u, v],\n",
        "        icon=folium.Icon(color='green', icon='location-dot', prefix='fa'),\n",
        "        popup = \"Cluster 2\").add_to(clustersLayer)\n",
        "  elif c == 3:\n",
        "    folium.Marker(\n",
        "        location=[u, v],\n",
        "        icon=folium.Icon(color='purple', icon='location-dot', prefix='fa'),\n",
        "        popup = \"Cluster 3\").add_to(clustersLayer)\n",
        "  elif c == 4:\n",
        "    folium.Marker(\n",
        "        location=[u, v],\n",
        "        icon=folium.Icon(color='cadetblue', icon='location-dot', prefix='fa'),\n",
        "        popup = \"Cluster 4\").add_to(clustersLayer)\n",
        "  elif c == 5:\n",
        "    folium.Marker(\n",
        "        location=[u, v],\n",
        "        icon=folium.Icon(color='pink', icon='location-dot', prefix='fa'),\n",
        "        popup = \"Cluster 5\").add_to(clustersLayer)\n",
        "  elif c == 6:\n",
        "    folium.Marker(\n",
        "        location=[u, v],\n",
        "        icon=folium.Icon(color='blue', icon='location-dot', prefix='fa'),\n",
        "        popup = \"Cluster 6\").add_to(clustersLayer)\n",
        "  else:\n",
        "    folium.Marker(\n",
        "        location=[u, v]).add_to(minus1cluster)\n",
        "\n",
        "folium.LayerControl(collapsed=True ,position= 'topright').add_to(clusterMap3)\n",
        "\n",
        "# Saving the map\n",
        "#clusterMap3.save('clusteringMapWithCommunityAreas.html')"
      ],
      "metadata": {
        "id": "CAlBOceFbbV-"
      },
      "execution_count": null,
      "outputs": []
    }
  ]
}